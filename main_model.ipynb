{
 "cells": [
  {
   "cell_type": "code",
   "execution_count": 9,
   "id": "a6f1dec5",
   "metadata": {},
   "outputs": [],
   "source": [
    "import pandas as pd\n",
    "import numpy as np\n",
    "from scipy.stats import kurtosis\n",
    "from pmdarima import auto_arima\n",
    "import pmdarima as pm\n",
    "from sklearn.metrics import mean_squared_error\n",
    "from sklearn.preprocessing import MinMaxScaler\n",
    "from keras.models import Sequential\n",
    "from keras.layers import Dense, LSTM\n",
    "from keras.callbacks import EarlyStopping\n",
    "import talib \n",
    "import json\n",
    "import tensorflow as tf\n",
    "from statsmodels.tsa.arima.model import ARIMA"
   ]
  },
  {
   "cell_type": "code",
   "execution_count": 2,
   "id": "aaa40a39",
   "metadata": {},
   "outputs": [],
   "source": [
    "def mean_absolute_percentage_error(actual, prediction):\n",
    "    actual = pd.Series(actual)\n",
    "    prediction = pd.Series(prediction)\n",
    "    return 100 * np.mean(np.abs((actual - prediction))/actual)\n",
    "\n",
    "class PrintLogs(tf.keras.callbacks.Callback):\n",
    "    def __init__(self, epochs):\n",
    "        self.epochs = epochs\n",
    "\n",
    "    def set_params(self, params):\n",
    "        params['epochs'] = 0\n",
    "\n",
    "    def on_epoch_begin(self, epoch, logs=None):\n",
    "        print('Epoch %d/%d' % (epoch + 1, self.epochs), end='\\r')\n",
    "    \n",
    "    def on_epoch_end(self, epoch, logs=None):\n",
    "        print('Epoch %d/%d' % (epoch + 1, self.epochs), end='\\r')\n",
    "    \n",
    "    def on_test_begin(self, logs=None):\n",
    "        keys = list(logs.keys())\n",
    "        print(\"Start testing; got log keys: {}\".format(keys), end='\\r')\n",
    "\n",
    "    def on_test_end(self, logs=None):\n",
    "        keys = list(logs.keys())\n",
    "        print(\"Stop testing; got log keys: {}\".format(keys), end='\\r')\n",
    "\n",
    "    def on_predict_begin(self, logs=None):\n",
    "        keys = list(logs.keys())\n",
    "        print(\"Start predicting; got log keys: {}\".format(keys), end='\\r')\n",
    "\n",
    "    def on_predict_end(self, logs=None):\n",
    "        keys = list(logs.keys())\n",
    "        print(\"Stop predicting; got log keys: {}\".format(keys), end='\\r')\n",
    "\n",
    "def get_arima(data, train_len, test_len, flag):\n",
    "    data = data.tail(test_len + train_len).reset_index(drop=True)\n",
    "    train = data.head(train_len).values.tolist()\n",
    "    test = data.tail(test_len).values.tolist()\n",
    "    data\n",
    "    model = auto_arima(train, max_p=3, max_q=3, seasonal=False, trace=True, error_action='ignore', suppress_warnings=True)\n",
    "    \n",
    "    model.fit(train)\n",
    "    order = model.get_params()['order']\n",
    "    print('ARIMA order:', order, '\\n')\n",
    "    \n",
    "    if(flag == 1):\n",
    "        order = (4,0,4)\n",
    "    else: \n",
    "        order = (0,3,0)\n",
    "    prediction = []\n",
    "    for i in range(len(test)):\n",
    "        model = pm.ARIMA(order=order)\n",
    "        model.fit(train)\n",
    "        print('working on', i+1, 'of', test_len, '-- ' + str(int(100 * (i + 1) / test_len)) + '% complete', end='\\r')\n",
    "        prediction.append(model.predict()[0])\n",
    "        train.append(test[i])\n",
    "    \n",
    "    mse = mean_squared_error(test, prediction)\n",
    "    rmse = mse ** 0.5\n",
    "    mape = mean_absolute_percentage_error(pd.Series(test), pd.Series(prediction))\n",
    "    return prediction, mse, rmse, mape, model\n",
    "\n",
    "def get_lstm(data, train_len, test_len, lstm_len=4):\n",
    "    data = data.tail(test_len + train_len).reset_index(drop=True)\n",
    "    \n",
    "    dataset = np.reshape(data.values, (len(data), 1))\n",
    "    scaler = MinMaxScaler(feature_range=(0, 1))\n",
    "    dataset_scaled = scaler.fit_transform(dataset)\n",
    "    \n",
    "    x_train = []\n",
    "    y_train = []\n",
    "    x_test = []\n",
    "    \n",
    "    for i in range(lstm_len, train_len):\n",
    "        x_train.append(dataset_scaled[i - lstm_len:i, 0])\n",
    "        y_train.append(dataset_scaled[i, 0])\n",
    "    for i in range(train_len, len(dataset_scaled)):\n",
    "        x_test.append(dataset_scaled[i - lstm_len:i, 0])\n",
    "\n",
    "    x_train = np.array(x_train)\n",
    "    y_train = np.array(y_train)\n",
    "    x_train = np.reshape(x_train, (x_train.shape[0], x_train.shape[1], 1))\n",
    "    x_test = np.array(x_test)\n",
    "    x_test = np.reshape(x_test, (x_test.shape[0], x_test.shape[1], 1))\n",
    "    \n",
    "    #print(x_test)\n",
    "    model = Sequential()\n",
    "    model.add(LSTM(units=lstm_len, return_sequences=True, input_shape=(x_train.shape[1], 1)))\n",
    "    model.add(LSTM(units=int(lstm_len/2)))\n",
    "    model.add(Dense(1, activation='sigmoid'))\n",
    "    model.compile(loss='mean_squared_error', optimizer='adam')\n",
    "    early_stopping = EarlyStopping(monitor='loss', mode='min', verbose=1, patience=5)\n",
    "    model.fit(x_train, y_train, epochs=50, batch_size=1, verbose=2, validation_split=0.2, callbacks=[PrintLogs(50), early_stopping])\n",
    "    \n",
    "    print(model.summary())\n",
    "    #print(x_test)\n",
    "    prediction = model.predict(x_test)\n",
    "    prediction = scaler.inverse_transform(prediction).tolist()\n",
    "    \n",
    "    output = []\n",
    "    for i in range(len(prediction)):\n",
    "        output.extend(prediction[i])\n",
    "    prediction = output\n",
    "    \n",
    "    mse = mean_squared_error(data.tail(len(prediction)).values, prediction)\n",
    "    rmse = mse ** 0.5\n",
    "    mape = mean_absolute_percentage_error(data.tail(len(prediction)).reset_index(drop=True), pd.Series(prediction))\n",
    "    return prediction, mse, rmse, mape, x_test, model, scaler\n",
    "\n",
    "def getOptimizedPeriods(data, talib_moving_averages, lower_end, upper_end):\n",
    "    l=len(talib_moving_averages)\n",
    "    kurtosis_results = {'period': []} \n",
    "    for i in range(4,100):\n",
    "        kurtosis_results['period'].append(i)\n",
    "        #lower_end = 0\n",
    "        #upper_end = 1000\n",
    "        for ma in range(l):\n",
    "            # Run moving average, removing last 252 days (used later for test data set), trimming MA result to last 60 days\n",
    "            if ma == 0:\n",
    "                ma_output = talib.SMA(data.iloc[lower_end:upper_end,4],i).tail(60) #inbuilt function of TA-Lib syntax: talib._MA(data,timeperiod)\n",
    "            elif ma == 1:\n",
    "                ma_output = talib.EMA(data.iloc[lower_end:upper_end,4],i).tail(60)\n",
    "            elif ma == 2:\n",
    "                ma_output = talib.DEMA(data.iloc[lower_end:upper_end,4],i).tail(60)\n",
    "            elif ma == 3:\n",
    "                ma_output = talib.TEMA(data.iloc[lower_end:upper_end,4],i).tail(60)\n",
    "            \n",
    "\n",
    "            k = kurtosis(ma_output, fisher=False)\n",
    "    \n",
    "            # add to dictionary\n",
    "            if ma not in kurtosis_results.keys():\n",
    "                kurtosis_results[ma] = []\n",
    "            kurtosis_results[ma].append(k)\n",
    "\n",
    "    kurtosis_results = pd.DataFrame(kurtosis_results)\n",
    "    \n",
    "    \n",
    "    optimized_period = {}\n",
    "    for ma in range(l):\n",
    "        difference = np.abs(kurtosis_results[ma] - 3)\n",
    "        df = pd.DataFrame({'difference': difference, 'period': kurtosis_results['period']})\n",
    "        df = df.sort_values(by=['difference'], ascending=True).reset_index(drop=True)\n",
    "\n",
    "    # ordering and considering only mesokurtic time periods from kurtosis_results\n",
    "        if df.at[0, 'difference'] < 3 * 0.05:\n",
    "            optimized_period[ma] = df.at[0, 'period']\n",
    "        else:\n",
    "            print(str(ma) + ' is not viable, best K greater or less than 3 +/- 5%')\n",
    "    \n",
    "    return optimized_period\n",
    "\n",
    "def simulate(data, optimized_period):\n",
    "    print(len(data.columns))\n",
    "    simulation = {}\n",
    "    for ma in optimized_period:\n",
    "        # Split data into low volatility and high volatility time series for ARIMA and LSTM based on MA type\n",
    "        if ma == 0:\n",
    "            low_vol = talib.SMA(data[4],optimized_period[ma]) #inbuilt function of TA-Lib\n",
    "            low_vol = low_vol.replace(np.nan, low_vol.mean())\n",
    "            high_vol = data[4].astype(float) - low_vol                      #subtracting 'Close' attribute from low voltalie dataset\n",
    "        elif ma == 1:\n",
    "            low_vol = talib.EMA(data[4],optimized_period[ma])\n",
    "            low_vol = low_vol.replace(np.nan, low_vol.mean())\n",
    "            high_vol = data[4].astype(float) - low_vol       \n",
    "        elif ma == 2:\n",
    "            low_vol = talib.DEMA(data[4],optimized_period[ma])\n",
    "            low_vol = low_vol.replace(np.nan, low_vol.mean())\n",
    "            high_vol = data[4].astype(float) - low_vol       \n",
    "        elif ma == 3:\n",
    "            low_vol = talib.TEMA(data[4],optimized_period[ma])\n",
    "            low_vol = low_vol.replace(np.nan, low_vol.mean())\n",
    "            high_vol = data[4].astype(float) - low_vol           \n",
    "        \n",
    "        if(len(data.columns) == 6):\n",
    "            flag = 1\n",
    "        else:\n",
    "            flag = 0\n",
    "        # Generate ARIMA and LSTM predictions\n",
    "        print('\\nWorking on ' + str(ma) + ' predictions')\n",
    "        #compatibility of MA in ARIMA for dataset by calling ARIMA \n",
    "        try:\n",
    "            low_vol_prediction, low_vol_mse, low_vol_rmse, low_vol_mape, arima_model = get_arima(low_vol, 1000, 252, flag)\n",
    "        except:\n",
    "            print('ARIMA error, skipping to next MA type')\n",
    "            continue\n",
    "        #calling LSTM with high volatility parameters\n",
    "        high_vol_prediction, high_vol_mse, high_vol_rmse, high_vol_mape, x_test, lstm_model, scaler = get_lstm(high_vol, 1000, 252)\n",
    "\n",
    "        \n",
    "        #calculating mse,rmse and mape to differentiate predictions and original\n",
    "        final_prediction = pd.Series(low_vol_prediction) + pd.Series(high_vol_prediction)\n",
    "        final_prediction = final_prediction.head(238)\n",
    "        mse = mean_squared_error(final_prediction.values, data[4].tail(238).values)\n",
    "        rmse = mse ** 0.5\n",
    "        mape = mean_absolute_percentage_error(data[4].tail(238).astype(float).reset_index(drop=True), final_prediction)\n",
    "\n",
    "        \n",
    "        # Generate prediction accuracy\n",
    "        actual = data[4].tail(238).values\n",
    "        result_1 = []\n",
    "        result_2 = []\n",
    "        for i in range(1, len(final_prediction)):\n",
    "            # Compare prediction to previous close price\n",
    "            if final_prediction[i] > float(actual[i-1]) and float(actual[i]) > float(actual[i-1]):\n",
    "                result_1.append(1)\n",
    "            elif final_prediction[i] < float(actual[i-1]) and float(actual[i]) < float(actual[i-1]):\n",
    "                result_1.append(1)\n",
    "            else:\n",
    "                result_1.append(0)\n",
    "\n",
    "            # Compare prediction to previous prediction\n",
    "            if final_prediction[i] > final_prediction[i-1] and float(actual[i]) > float(actual[i-1]):\n",
    "                result_2.append(1)\n",
    "            elif final_prediction[i] < final_prediction[i-1] and float(actual[i]) < float(actual[i-1]):\n",
    "                result_2.append(1)\n",
    "            else:\n",
    "                result_2.append(0)\n",
    "\n",
    "        accuracy_1 = np.mean(result_1)\n",
    "        accuracy_2 = np.mean(result_2)\n",
    "          #storing predicted and the actual value\n",
    "        simulation[ma] = {'low_vol': {'prediction': low_vol_prediction, 'mse': low_vol_mse,\n",
    "                                      'rmse': low_vol_rmse, 'mape': low_vol_mape},\n",
    "                       'high_vol': {'prediction': high_vol_prediction, 'mse': high_vol_mse,\n",
    "                                       'rmse': high_vol_rmse},\n",
    "                          'final': {'prediction': final_prediction.values.tolist(), 'mse': mse,\n",
    "                                    'rmse': rmse, 'mape': mape},\n",
    "                          'accuracy': {'prediction vs close': accuracy_1, 'prediction vs prediction': accuracy_2}}\n",
    "    \n",
    "    #comparing prediction vs original dataset\n",
    "    for ma in simulation.keys():\n",
    "        print('\\nEvaluation of Model:' + str(ma))\n",
    "        #print('Prediction vs Close:\\t\\t' + str(round(100*simulation[ma]['accuracy']['prediction vs close'], 2))\n",
    "        #      + '% Accuracy')\n",
    "        #print('Prediction vs Prediction:\\t' + str(round(100*simulation[ma]['accuracy']['prediction vs prediction'], 2))\n",
    "        #      + '% Accuracy')\n",
    "        print('MSE:\\t', simulation[ma]['final']['mse'],\n",
    "              '\\nRMSE:\\t', simulation[ma]['final']['rmse'],\n",
    "              '\\nMAPE:\\t', simulation[ma]['final']['mape'])\n",
    "    return final_prediction, actual"
   ]
  },
  {
   "cell_type": "code",
   "execution_count": 10,
   "id": "3543a527",
   "metadata": {},
   "outputs": [],
   "source": [
    "path = 'withsentiment.csv'\n",
    "data1 = pd.read_csv(path,header=None)\n",
    "new_col=[0,3,1,2,4,5,6]\n",
    "#assigning changed order \n",
    "set(data1.columns) == set(new_col)\n",
    "data=data1[new_col]#ohlcv\n",
    "#dropping headers of the columns with names(str)\n",
    "data = data.drop([0], axis =0)\n",
    "#data = data.drop([5], axis =1)\n",
    "talib_moving_averages = ['SMA', 'EMA', 'DEMA', 'TEMA']"
   ]
  },
  {
   "cell_type": "code",
   "execution_count": 5,
   "id": "3c650cc0",
   "metadata": {},
   "outputs": [
    {
     "name": "stdout",
     "output_type": "stream",
     "text": [
      "1 is not viable, best K greater or less than 3 +/- 5%\n",
      "2 is not viable, best K greater or less than 3 +/- 5%\n",
      "3 is not viable, best K greater or less than 3 +/- 5%\n",
      "\n",
      "Optimized periods: {0: 47}\n",
      "7\n",
      "\n",
      "Working on 0 predictions\n",
      "Performing stepwise search to minimize aic\n",
      " ARIMA(2,2,2)(0,0,0)[0] intercept   : AIC=1789.904, Time=3.67 sec\n",
      " ARIMA(0,2,0)(0,0,0)[0] intercept   : AIC=2141.404, Time=0.25 sec\n",
      " ARIMA(1,2,0)(0,0,0)[0] intercept   : AIC=1907.914, Time=0.19 sec\n",
      " ARIMA(0,2,1)(0,0,0)[0] intercept   : AIC=1787.724, Time=0.65 sec\n",
      " ARIMA(0,2,0)(0,0,0)[0]             : AIC=2139.409, Time=0.07 sec\n",
      " ARIMA(1,2,1)(0,0,0)[0] intercept   : AIC=1789.135, Time=0.48 sec\n",
      " ARIMA(0,2,2)(0,0,0)[0] intercept   : AIC=1789.062, Time=0.65 sec\n",
      " ARIMA(1,2,2)(0,0,0)[0] intercept   : AIC=1788.091, Time=3.37 sec\n",
      " ARIMA(0,2,1)(0,0,0)[0]             : AIC=1785.794, Time=0.22 sec\n",
      " ARIMA(1,2,1)(0,0,0)[0]             : AIC=1787.202, Time=0.28 sec\n",
      " ARIMA(0,2,2)(0,0,0)[0]             : AIC=1787.129, Time=0.32 sec\n",
      " ARIMA(1,2,0)(0,0,0)[0]             : AIC=1905.929, Time=0.08 sec\n",
      " ARIMA(1,2,2)(0,0,0)[0]             : AIC=1786.138, Time=0.78 sec\n",
      "\n",
      "Best model:  ARIMA(0,2,1)(0,0,0)[0]          \n",
      "Total fit time: 11.030 seconds\n",
      "ARIMA order: (0, 2, 1) \n",
      "\n",
      "(0, 3, 0)\n",
      "796/796 - 17s - loss: 0.0133 - val_loss: 0.0136 - 17s/epoch - 22ms/step\n",
      "796/796 - 8s - loss: 0.0045 - val_loss: 0.0066 - 8s/epoch - 10ms/step\n",
      "796/796 - 9s - loss: 0.0027 - val_loss: 0.0069 - 9s/epoch - 11ms/step\n",
      "796/796 - 9s - loss: 0.0024 - val_loss: 0.0070 - 9s/epoch - 12ms/step\n",
      "796/796 - 9s - loss: 0.0023 - val_loss: 0.0072 - 9s/epoch - 12ms/step\n",
      "796/796 - 9s - loss: 0.0022 - val_loss: 0.0070 - 9s/epoch - 11ms/step\n",
      "796/796 - 10s - loss: 0.0022 - val_loss: 0.0071 - 10s/epoch - 12ms/step\n",
      "796/796 - 9s - loss: 0.0021 - val_loss: 0.0068 - 9s/epoch - 12ms/step\n",
      "796/796 - 9s - loss: 0.0020 - val_loss: 0.0066 - 9s/epoch - 12ms/step\n",
      "796/796 - 9s - loss: 0.0020 - val_loss: 0.0077 - 9s/epoch - 11ms/step\n",
      "796/796 - 9s - loss: 0.0019 - val_loss: 0.0072 - 9s/epoch - 12ms/step\n",
      "796/796 - 9s - loss: 0.0019 - val_loss: 0.0067 - 9s/epoch - 11ms/step\n",
      "796/796 - 6s - loss: 0.0018 - val_loss: 0.0068 - 6s/epoch - 8ms/step\n",
      "796/796 - 9s - loss: 0.0018 - val_loss: 0.0061 - 9s/epoch - 11ms/step\n",
      "796/796 - 8s - loss: 0.0018 - val_loss: 0.0060 - 8s/epoch - 10ms/step\n",
      "796/796 - 8s - loss: 0.0016 - val_loss: 0.0063 - 8s/epoch - 11ms/step\n",
      "796/796 - 10s - loss: 0.0016 - val_loss: 0.0057 - 10s/epoch - 13ms/step\n",
      "796/796 - 11s - loss: 0.0015 - val_loss: 0.0058 - 11s/epoch - 13ms/step\n",
      "796/796 - 9s - loss: 0.0015 - val_loss: 0.0052 - 9s/epoch - 11ms/step\n",
      "796/796 - 10s - loss: 0.0014 - val_loss: 0.0058 - 10s/epoch - 12ms/step\n",
      "796/796 - 9s - loss: 0.0014 - val_loss: 0.0052 - 9s/epoch - 11ms/step\n",
      "796/796 - 9s - loss: 0.0013 - val_loss: 0.0052 - 9s/epoch - 11ms/step\n",
      "796/796 - 8s - loss: 0.0012 - val_loss: 0.0048 - 8s/epoch - 10ms/step\n",
      "796/796 - 9s - loss: 0.0012 - val_loss: 0.0047 - 9s/epoch - 12ms/step\n",
      "796/796 - 9s - loss: 0.0012 - val_loss: 0.0048 - 9s/epoch - 12ms/step\n",
      "796/796 - 9s - loss: 0.0011 - val_loss: 0.0045 - 9s/epoch - 11ms/step\n",
      "796/796 - 8s - loss: 0.0011 - val_loss: 0.0047 - 8s/epoch - 10ms/step\n",
      "796/796 - 8s - loss: 0.0011 - val_loss: 0.0040 - 8s/epoch - 11ms/step\n",
      "796/796 - 9s - loss: 0.0010 - val_loss: 0.0038 - 9s/epoch - 11ms/step\n",
      "796/796 - 8s - loss: 0.0010 - val_loss: 0.0041 - 8s/epoch - 10ms/step\n",
      "796/796 - 9s - loss: 0.0010 - val_loss: 0.0038 - 9s/epoch - 11ms/step\n",
      "796/796 - 9s - loss: 9.9534e-04 - val_loss: 0.0036 - 9s/epoch - 11ms/step\n",
      "796/796 - 7s - loss: 9.5578e-04 - val_loss: 0.0036 - 7s/epoch - 9ms/step\n",
      "796/796 - 8s - loss: 9.3158e-04 - val_loss: 0.0037 - 8s/epoch - 10ms/step\n",
      "796/796 - 8s - loss: 9.1909e-04 - val_loss: 0.0038 - 8s/epoch - 10ms/step\n",
      "796/796 - 7s - loss: 9.2758e-04 - val_loss: 0.0032 - 7s/epoch - 9ms/step\n",
      "796/796 - 9s - loss: 9.2576e-04 - val_loss: 0.0034 - 9s/epoch - 11ms/step\n",
      "796/796 - 9s - loss: 8.9227e-04 - val_loss: 0.0031 - 9s/epoch - 11ms/step\n",
      "796/796 - 8s - loss: 8.7144e-04 - val_loss: 0.0034 - 8s/epoch - 10ms/step\n",
      "796/796 - 9s - loss: 8.7935e-04 - val_loss: 0.0029 - 9s/epoch - 11ms/step\n",
      "796/796 - 8s - loss: 8.4750e-04 - val_loss: 0.0030 - 8s/epoch - 11ms/step\n",
      "796/796 - 6s - loss: 8.5725e-04 - val_loss: 0.0031 - 6s/epoch - 7ms/step\n",
      "796/796 - 8s - loss: 8.4337e-04 - val_loss: 0.0029 - 8s/epoch - 10ms/step\n",
      "796/796 - 8s - loss: 8.5246e-04 - val_loss: 0.0031 - 8s/epoch - 10ms/step\n",
      "796/796 - 8s - loss: 8.2440e-04 - val_loss: 0.0029 - 8s/epoch - 10ms/step\n",
      "796/796 - 8s - loss: 8.4252e-04 - val_loss: 0.0032 - 8s/epoch - 10ms/step\n",
      "796/796 - 8s - loss: 8.3520e-04 - val_loss: 0.0029 - 8s/epoch - 10ms/step\n",
      "796/796 - 8s - loss: 8.2607e-04 - val_loss: 0.0032 - 8s/epoch - 10ms/step\n",
      "796/796 - 8s - loss: 8.3603e-04 - val_loss: 0.0033 - 8s/epoch - 11ms/step\n",
      "796/796 - 7s - loss: 8.1541e-04 - val_loss: 0.0029 - 7s/epoch - 9ms/step\n",
      "Model: \"sequential\"\n",
      "_________________________________________________________________\n",
      " Layer (type)                Output Shape              Param #   \n",
      "=================================================================\n",
      " lstm (LSTM)                 (None, 4, 4)              96        \n",
      "                                                                 \n",
      " lstm_1 (LSTM)               (None, 2)                 56        \n",
      "                                                                 \n",
      " dense (Dense)               (None, 1)                 3         \n",
      "                                                                 \n",
      "=================================================================\n",
      "Total params: 155\n",
      "Trainable params: 155\n",
      "Non-trainable params: 0\n",
      "_________________________________________________________________\n",
      "None\n",
      "8/8 [==============================] - 2s 5ms/step\n",
      "\n",
      "Evaluation of Model:0\n",
      "MSE:\t 203.9721063583497 \n",
      "RMSE:\t 14.281880350932425 \n",
      "MAPE:\t 2.2814035824925623\n"
     ]
    }
   ],
   "source": [
    "optimized_period = getOptimizedPeriods(data, talib_moving_averages, lower_end = 0, upper_end = 1000)\n",
    "print('\\nOptimized periods:', optimized_period)\n",
    "\n",
    "sentiment_result, actual = simulate(data, optimized_period)"
   ]
  },
  {
   "cell_type": "code",
   "execution_count": 6,
   "id": "183ef680",
   "metadata": {},
   "outputs": [],
   "source": [
    "path = 'withoutsentiment.csv'\n",
    "data2 = pd.read_csv(path,header=None)\n",
    "# changing column order to: ['Date', 'Open', 'High', 'Low', 'Close', 'Volume','Sentiment']\n",
    "new_col2=[0,3,1,2,4,5]\n",
    "#assigning changed order \n",
    "set(data2.columns) == set(new_col2)\n",
    "data3=data2[new_col2]#ohlcv\n",
    "#dropping headers of the columns with names(str)\n",
    "data3 = data3.drop([0], axis=0)\n",
    "talib_moving_averages = ['SMA', 'EMA', 'DEMA', 'TEMA']"
   ]
  },
  {
   "cell_type": "code",
   "execution_count": 7,
   "id": "249a063c",
   "metadata": {},
   "outputs": [
    {
     "name": "stdout",
     "output_type": "stream",
     "text": [
      "1 is not viable, best K greater or less than 3 +/- 5%\n",
      "2 is not viable, best K greater or less than 3 +/- 5%\n",
      "3 is not viable, best K greater or less than 3 +/- 5%\n",
      "\n",
      "Optimized periods: {0: 47}\n",
      "6\n",
      "\n",
      "Working on 0 predictions\n",
      "Performing stepwise search to minimize aic\n",
      " ARIMA(2,2,2)(0,0,0)[0] intercept   : AIC=1789.904, Time=2.85 sec\n",
      " ARIMA(0,2,0)(0,0,0)[0] intercept   : AIC=2141.404, Time=0.19 sec\n",
      " ARIMA(1,2,0)(0,0,0)[0] intercept   : AIC=1907.914, Time=0.18 sec\n",
      " ARIMA(0,2,1)(0,0,0)[0] intercept   : AIC=1787.724, Time=0.54 sec\n",
      " ARIMA(0,2,0)(0,0,0)[0]             : AIC=2139.409, Time=0.05 sec\n",
      " ARIMA(1,2,1)(0,0,0)[0] intercept   : AIC=1789.135, Time=0.44 sec\n",
      " ARIMA(0,2,2)(0,0,0)[0] intercept   : AIC=1789.062, Time=0.53 sec\n",
      " ARIMA(1,2,2)(0,0,0)[0] intercept   : AIC=1788.091, Time=3.11 sec\n",
      " ARIMA(0,2,1)(0,0,0)[0]             : AIC=1785.794, Time=0.13 sec\n",
      " ARIMA(1,2,1)(0,0,0)[0]             : AIC=1787.202, Time=0.16 sec\n",
      " ARIMA(0,2,2)(0,0,0)[0]             : AIC=1787.129, Time=0.19 sec\n",
      " ARIMA(1,2,0)(0,0,0)[0]             : AIC=1905.929, Time=0.11 sec\n",
      " ARIMA(1,2,2)(0,0,0)[0]             : AIC=1786.138, Time=0.78 sec\n",
      "\n",
      "Best model:  ARIMA(0,2,1)(0,0,0)[0]          \n",
      "Total fit time: 9.276 seconds\n",
      "ARIMA order: (0, 2, 1) \n",
      "\n",
      "(4, 0, 4)\n"
     ]
    },
    {
     "name": "stderr",
     "output_type": "stream",
     "text": [
      "C:\\Users\\Kartik\\AppData\\Local\\Programs\\Python\\Python310\\lib\\site-packages\\statsmodels\\base\\model.py:604: ConvergenceWarning: Maximum Likelihood optimization failed to converge. Check mle_retvals\n",
      "  warnings.warn(\"Maximum Likelihood optimization failed to \"\n"
     ]
    },
    {
     "name": "stdout",
     "output_type": "stream",
     "text": [
      "working on 1 of 252 -- 0% complete\r"
     ]
    },
    {
     "name": "stderr",
     "output_type": "stream",
     "text": [
      "C:\\Users\\Kartik\\AppData\\Local\\Programs\\Python\\Python310\\lib\\site-packages\\statsmodels\\base\\model.py:604: ConvergenceWarning: Maximum Likelihood optimization failed to converge. Check mle_retvals\n",
      "  warnings.warn(\"Maximum Likelihood optimization failed to \"\n"
     ]
    },
    {
     "name": "stdout",
     "output_type": "stream",
     "text": [
      "working on 2 of 252 -- 0% complete\r"
     ]
    },
    {
     "name": "stderr",
     "output_type": "stream",
     "text": [
      "C:\\Users\\Kartik\\AppData\\Local\\Programs\\Python\\Python310\\lib\\site-packages\\statsmodels\\base\\model.py:604: ConvergenceWarning: Maximum Likelihood optimization failed to converge. Check mle_retvals\n",
      "  warnings.warn(\"Maximum Likelihood optimization failed to \"\n"
     ]
    },
    {
     "name": "stdout",
     "output_type": "stream",
     "text": [
      "working on 3 of 252 -- 1% complete\r"
     ]
    },
    {
     "name": "stderr",
     "output_type": "stream",
     "text": [
      "C:\\Users\\Kartik\\AppData\\Local\\Programs\\Python\\Python310\\lib\\site-packages\\statsmodels\\base\\model.py:604: ConvergenceWarning: Maximum Likelihood optimization failed to converge. Check mle_retvals\n",
      "  warnings.warn(\"Maximum Likelihood optimization failed to \"\n"
     ]
    },
    {
     "name": "stdout",
     "output_type": "stream",
     "text": [
      "working on 4 of 252 -- 1% complete\r"
     ]
    },
    {
     "name": "stderr",
     "output_type": "stream",
     "text": [
      "C:\\Users\\Kartik\\AppData\\Local\\Programs\\Python\\Python310\\lib\\site-packages\\statsmodels\\base\\model.py:604: ConvergenceWarning: Maximum Likelihood optimization failed to converge. Check mle_retvals\n",
      "  warnings.warn(\"Maximum Likelihood optimization failed to \"\n",
      "C:\\Users\\Kartik\\AppData\\Local\\Programs\\Python\\Python310\\lib\\site-packages\\statsmodels\\tsa\\statespace\\sarimax.py:966: UserWarning: Non-stationary starting autoregressive parameters found. Using zeros as starting parameters.\n",
      "  warn('Non-stationary starting autoregressive parameters'\n"
     ]
    },
    {
     "name": "stdout",
     "output_type": "stream",
     "text": [
      "working on 5 of 252 -- 1% complete\r"
     ]
    },
    {
     "name": "stderr",
     "output_type": "stream",
     "text": [
      "C:\\Users\\Kartik\\AppData\\Local\\Programs\\Python\\Python310\\lib\\site-packages\\statsmodels\\base\\model.py:604: ConvergenceWarning: Maximum Likelihood optimization failed to converge. Check mle_retvals\n",
      "  warnings.warn(\"Maximum Likelihood optimization failed to \"\n"
     ]
    },
    {
     "name": "stdout",
     "output_type": "stream",
     "text": [
      "working on 6 of 252 -- 2% complete\r"
     ]
    },
    {
     "name": "stderr",
     "output_type": "stream",
     "text": [
      "C:\\Users\\Kartik\\AppData\\Local\\Programs\\Python\\Python310\\lib\\site-packages\\statsmodels\\base\\model.py:604: ConvergenceWarning: Maximum Likelihood optimization failed to converge. Check mle_retvals\n",
      "  warnings.warn(\"Maximum Likelihood optimization failed to \"\n"
     ]
    },
    {
     "name": "stdout",
     "output_type": "stream",
     "text": [
      "working on 7 of 252 -- 2% complete\r"
     ]
    },
    {
     "name": "stderr",
     "output_type": "stream",
     "text": [
      "C:\\Users\\Kartik\\AppData\\Local\\Programs\\Python\\Python310\\lib\\site-packages\\statsmodels\\base\\model.py:604: ConvergenceWarning: Maximum Likelihood optimization failed to converge. Check mle_retvals\n",
      "  warnings.warn(\"Maximum Likelihood optimization failed to \"\n",
      "C:\\Users\\Kartik\\AppData\\Local\\Programs\\Python\\Python310\\lib\\site-packages\\statsmodels\\tsa\\statespace\\sarimax.py:966: UserWarning: Non-stationary starting autoregressive parameters found. Using zeros as starting parameters.\n",
      "  warn('Non-stationary starting autoregressive parameters'\n",
      "C:\\Users\\Kartik\\AppData\\Local\\Programs\\Python\\Python310\\lib\\site-packages\\statsmodels\\tsa\\statespace\\sarimax.py:978: UserWarning: Non-invertible starting MA parameters found. Using zeros as starting parameters.\n",
      "  warn('Non-invertible starting MA parameters found.'\n"
     ]
    },
    {
     "name": "stdout",
     "output_type": "stream",
     "text": [
      "working on 8 of 252 -- 3% complete\r"
     ]
    },
    {
     "name": "stderr",
     "output_type": "stream",
     "text": [
      "C:\\Users\\Kartik\\AppData\\Local\\Programs\\Python\\Python310\\lib\\site-packages\\statsmodels\\base\\model.py:604: ConvergenceWarning: Maximum Likelihood optimization failed to converge. Check mle_retvals\n",
      "  warnings.warn(\"Maximum Likelihood optimization failed to \"\n",
      "C:\\Users\\Kartik\\AppData\\Local\\Programs\\Python\\Python310\\lib\\site-packages\\statsmodels\\tsa\\statespace\\sarimax.py:966: UserWarning: Non-stationary starting autoregressive parameters found. Using zeros as starting parameters.\n",
      "  warn('Non-stationary starting autoregressive parameters'\n",
      "C:\\Users\\Kartik\\AppData\\Local\\Programs\\Python\\Python310\\lib\\site-packages\\statsmodels\\tsa\\statespace\\sarimax.py:978: UserWarning: Non-invertible starting MA parameters found. Using zeros as starting parameters.\n",
      "  warn('Non-invertible starting MA parameters found.'\n"
     ]
    },
    {
     "name": "stdout",
     "output_type": "stream",
     "text": [
      "working on 9 of 252 -- 3% complete\r"
     ]
    },
    {
     "name": "stderr",
     "output_type": "stream",
     "text": [
      "C:\\Users\\Kartik\\AppData\\Local\\Programs\\Python\\Python310\\lib\\site-packages\\statsmodels\\base\\model.py:604: ConvergenceWarning: Maximum Likelihood optimization failed to converge. Check mle_retvals\n",
      "  warnings.warn(\"Maximum Likelihood optimization failed to \"\n",
      "C:\\Users\\Kartik\\AppData\\Local\\Programs\\Python\\Python310\\lib\\site-packages\\statsmodels\\tsa\\statespace\\sarimax.py:966: UserWarning: Non-stationary starting autoregressive parameters found. Using zeros as starting parameters.\n",
      "  warn('Non-stationary starting autoregressive parameters'\n",
      "C:\\Users\\Kartik\\AppData\\Local\\Programs\\Python\\Python310\\lib\\site-packages\\statsmodels\\tsa\\statespace\\sarimax.py:978: UserWarning: Non-invertible starting MA parameters found. Using zeros as starting parameters.\n",
      "  warn('Non-invertible starting MA parameters found.'\n"
     ]
    },
    {
     "name": "stdout",
     "output_type": "stream",
     "text": [
      "working on 10 of 252 -- 3% complete\r"
     ]
    },
    {
     "name": "stderr",
     "output_type": "stream",
     "text": [
      "C:\\Users\\Kartik\\AppData\\Local\\Programs\\Python\\Python310\\lib\\site-packages\\statsmodels\\base\\model.py:604: ConvergenceWarning: Maximum Likelihood optimization failed to converge. Check mle_retvals\n",
      "  warnings.warn(\"Maximum Likelihood optimization failed to \"\n"
     ]
    },
    {
     "name": "stdout",
     "output_type": "stream",
     "text": [
      "working on 20 of 252 -- 7% complete\r"
     ]
    },
    {
     "name": "stderr",
     "output_type": "stream",
     "text": [
      "C:\\Users\\Kartik\\AppData\\Local\\Programs\\Python\\Python310\\lib\\site-packages\\statsmodels\\base\\model.py:604: ConvergenceWarning: Maximum Likelihood optimization failed to converge. Check mle_retvals\n",
      "  warnings.warn(\"Maximum Likelihood optimization failed to \"\n"
     ]
    },
    {
     "name": "stdout",
     "output_type": "stream",
     "text": [
      "working on 21 of 252 -- 8% complete\r"
     ]
    },
    {
     "name": "stderr",
     "output_type": "stream",
     "text": [
      "C:\\Users\\Kartik\\AppData\\Local\\Programs\\Python\\Python310\\lib\\site-packages\\statsmodels\\base\\model.py:604: ConvergenceWarning: Maximum Likelihood optimization failed to converge. Check mle_retvals\n",
      "  warnings.warn(\"Maximum Likelihood optimization failed to \"\n"
     ]
    },
    {
     "name": "stdout",
     "output_type": "stream",
     "text": [
      "working on 23 of 252 -- 9% complete\r"
     ]
    },
    {
     "name": "stderr",
     "output_type": "stream",
     "text": [
      "C:\\Users\\Kartik\\AppData\\Local\\Programs\\Python\\Python310\\lib\\site-packages\\statsmodels\\base\\model.py:604: ConvergenceWarning: Maximum Likelihood optimization failed to converge. Check mle_retvals\n",
      "  warnings.warn(\"Maximum Likelihood optimization failed to \"\n"
     ]
    },
    {
     "name": "stdout",
     "output_type": "stream",
     "text": [
      "working on 25 of 252 -- 9% complete\r"
     ]
    },
    {
     "name": "stderr",
     "output_type": "stream",
     "text": [
      "C:\\Users\\Kartik\\AppData\\Local\\Programs\\Python\\Python310\\lib\\site-packages\\statsmodels\\base\\model.py:604: ConvergenceWarning: Maximum Likelihood optimization failed to converge. Check mle_retvals\n",
      "  warnings.warn(\"Maximum Likelihood optimization failed to \"\n"
     ]
    },
    {
     "name": "stdout",
     "output_type": "stream",
     "text": [
      "working on 28 of 252 -- 11% complete\r"
     ]
    },
    {
     "name": "stderr",
     "output_type": "stream",
     "text": [
      "C:\\Users\\Kartik\\AppData\\Local\\Programs\\Python\\Python310\\lib\\site-packages\\statsmodels\\base\\model.py:604: ConvergenceWarning: Maximum Likelihood optimization failed to converge. Check mle_retvals\n",
      "  warnings.warn(\"Maximum Likelihood optimization failed to \"\n"
     ]
    },
    {
     "name": "stdout",
     "output_type": "stream",
     "text": [
      "working on 30 of 252 -- 11% complete\r"
     ]
    },
    {
     "name": "stderr",
     "output_type": "stream",
     "text": [
      "C:\\Users\\Kartik\\AppData\\Local\\Programs\\Python\\Python310\\lib\\site-packages\\statsmodels\\base\\model.py:604: ConvergenceWarning: Maximum Likelihood optimization failed to converge. Check mle_retvals\n",
      "  warnings.warn(\"Maximum Likelihood optimization failed to \"\n"
     ]
    },
    {
     "name": "stdout",
     "output_type": "stream",
     "text": [
      "working on 31 of 252 -- 12% complete\r"
     ]
    },
    {
     "name": "stderr",
     "output_type": "stream",
     "text": [
      "C:\\Users\\Kartik\\AppData\\Local\\Programs\\Python\\Python310\\lib\\site-packages\\statsmodels\\base\\model.py:604: ConvergenceWarning: Maximum Likelihood optimization failed to converge. Check mle_retvals\n",
      "  warnings.warn(\"Maximum Likelihood optimization failed to \"\n"
     ]
    },
    {
     "name": "stdout",
     "output_type": "stream",
     "text": [
      "working on 47 of 252 -- 18% complete\r"
     ]
    },
    {
     "name": "stderr",
     "output_type": "stream",
     "text": [
      "C:\\Users\\Kartik\\AppData\\Local\\Programs\\Python\\Python310\\lib\\site-packages\\statsmodels\\base\\model.py:604: ConvergenceWarning: Maximum Likelihood optimization failed to converge. Check mle_retvals\n",
      "  warnings.warn(\"Maximum Likelihood optimization failed to \"\n"
     ]
    },
    {
     "name": "stdout",
     "output_type": "stream",
     "text": [
      "working on 49 of 252 -- 19% complete\r"
     ]
    },
    {
     "name": "stderr",
     "output_type": "stream",
     "text": [
      "C:\\Users\\Kartik\\AppData\\Local\\Programs\\Python\\Python310\\lib\\site-packages\\statsmodels\\base\\model.py:604: ConvergenceWarning: Maximum Likelihood optimization failed to converge. Check mle_retvals\n",
      "  warnings.warn(\"Maximum Likelihood optimization failed to \"\n"
     ]
    },
    {
     "name": "stdout",
     "output_type": "stream",
     "text": [
      "working on 50 of 252 -- 19% complete\r"
     ]
    },
    {
     "name": "stderr",
     "output_type": "stream",
     "text": [
      "C:\\Users\\Kartik\\AppData\\Local\\Programs\\Python\\Python310\\lib\\site-packages\\statsmodels\\base\\model.py:604: ConvergenceWarning: Maximum Likelihood optimization failed to converge. Check mle_retvals\n",
      "  warnings.warn(\"Maximum Likelihood optimization failed to \"\n"
     ]
    },
    {
     "name": "stdout",
     "output_type": "stream",
     "text": [
      "working on 67 of 252 -- 26% complete\r"
     ]
    },
    {
     "name": "stderr",
     "output_type": "stream",
     "text": [
      "C:\\Users\\Kartik\\AppData\\Local\\Programs\\Python\\Python310\\lib\\site-packages\\statsmodels\\base\\model.py:604: ConvergenceWarning: Maximum Likelihood optimization failed to converge. Check mle_retvals\n",
      "  warnings.warn(\"Maximum Likelihood optimization failed to \"\n"
     ]
    },
    {
     "name": "stdout",
     "output_type": "stream",
     "text": [
      "working on 69 of 252 -- 27% complete\r"
     ]
    },
    {
     "name": "stderr",
     "output_type": "stream",
     "text": [
      "C:\\Users\\Kartik\\AppData\\Local\\Programs\\Python\\Python310\\lib\\site-packages\\statsmodels\\base\\model.py:604: ConvergenceWarning: Maximum Likelihood optimization failed to converge. Check mle_retvals\n",
      "  warnings.warn(\"Maximum Likelihood optimization failed to \"\n"
     ]
    },
    {
     "name": "stdout",
     "output_type": "stream",
     "text": [
      "working on 71 of 252 -- 28% complete\r"
     ]
    },
    {
     "name": "stderr",
     "output_type": "stream",
     "text": [
      "C:\\Users\\Kartik\\AppData\\Local\\Programs\\Python\\Python310\\lib\\site-packages\\statsmodels\\base\\model.py:604: ConvergenceWarning: Maximum Likelihood optimization failed to converge. Check mle_retvals\n",
      "  warnings.warn(\"Maximum Likelihood optimization failed to \"\n"
     ]
    },
    {
     "name": "stdout",
     "output_type": "stream",
     "text": [
      "working on 72 of 252 -- 28% complete\r"
     ]
    },
    {
     "name": "stderr",
     "output_type": "stream",
     "text": [
      "C:\\Users\\Kartik\\AppData\\Local\\Programs\\Python\\Python310\\lib\\site-packages\\statsmodels\\base\\model.py:604: ConvergenceWarning: Maximum Likelihood optimization failed to converge. Check mle_retvals\n",
      "  warnings.warn(\"Maximum Likelihood optimization failed to \"\n"
     ]
    },
    {
     "name": "stdout",
     "output_type": "stream",
     "text": [
      "working on 73 of 252 -- 28% complete\r"
     ]
    },
    {
     "name": "stderr",
     "output_type": "stream",
     "text": [
      "C:\\Users\\Kartik\\AppData\\Local\\Programs\\Python\\Python310\\lib\\site-packages\\statsmodels\\base\\model.py:604: ConvergenceWarning: Maximum Likelihood optimization failed to converge. Check mle_retvals\n",
      "  warnings.warn(\"Maximum Likelihood optimization failed to \"\n"
     ]
    },
    {
     "name": "stdout",
     "output_type": "stream",
     "text": [
      "working on 74 of 252 -- 29% complete\r"
     ]
    },
    {
     "name": "stderr",
     "output_type": "stream",
     "text": [
      "C:\\Users\\Kartik\\AppData\\Local\\Programs\\Python\\Python310\\lib\\site-packages\\statsmodels\\base\\model.py:604: ConvergenceWarning: Maximum Likelihood optimization failed to converge. Check mle_retvals\n",
      "  warnings.warn(\"Maximum Likelihood optimization failed to \"\n"
     ]
    },
    {
     "name": "stdout",
     "output_type": "stream",
     "text": [
      "working on 75 of 252 -- 29% complete\r"
     ]
    },
    {
     "name": "stderr",
     "output_type": "stream",
     "text": [
      "C:\\Users\\Kartik\\AppData\\Local\\Programs\\Python\\Python310\\lib\\site-packages\\statsmodels\\base\\model.py:604: ConvergenceWarning: Maximum Likelihood optimization failed to converge. Check mle_retvals\n",
      "  warnings.warn(\"Maximum Likelihood optimization failed to \"\n"
     ]
    },
    {
     "name": "stdout",
     "output_type": "stream",
     "text": [
      "working on 76 of 252 -- 30% complete\r"
     ]
    },
    {
     "name": "stderr",
     "output_type": "stream",
     "text": [
      "C:\\Users\\Kartik\\AppData\\Local\\Programs\\Python\\Python310\\lib\\site-packages\\statsmodels\\base\\model.py:604: ConvergenceWarning: Maximum Likelihood optimization failed to converge. Check mle_retvals\n",
      "  warnings.warn(\"Maximum Likelihood optimization failed to \"\n"
     ]
    },
    {
     "name": "stdout",
     "output_type": "stream",
     "text": [
      "working on 77 of 252 -- 30% complete\r"
     ]
    },
    {
     "name": "stderr",
     "output_type": "stream",
     "text": [
      "C:\\Users\\Kartik\\AppData\\Local\\Programs\\Python\\Python310\\lib\\site-packages\\statsmodels\\base\\model.py:604: ConvergenceWarning: Maximum Likelihood optimization failed to converge. Check mle_retvals\n",
      "  warnings.warn(\"Maximum Likelihood optimization failed to \"\n"
     ]
    },
    {
     "name": "stdout",
     "output_type": "stream",
     "text": [
      "working on 78 of 252 -- 30% complete\r"
     ]
    },
    {
     "name": "stderr",
     "output_type": "stream",
     "text": [
      "C:\\Users\\Kartik\\AppData\\Local\\Programs\\Python\\Python310\\lib\\site-packages\\statsmodels\\base\\model.py:604: ConvergenceWarning: Maximum Likelihood optimization failed to converge. Check mle_retvals\n",
      "  warnings.warn(\"Maximum Likelihood optimization failed to \"\n"
     ]
    },
    {
     "name": "stdout",
     "output_type": "stream",
     "text": [
      "working on 79 of 252 -- 31% complete\r"
     ]
    },
    {
     "name": "stderr",
     "output_type": "stream",
     "text": [
      "C:\\Users\\Kartik\\AppData\\Local\\Programs\\Python\\Python310\\lib\\site-packages\\statsmodels\\base\\model.py:604: ConvergenceWarning: Maximum Likelihood optimization failed to converge. Check mle_retvals\n",
      "  warnings.warn(\"Maximum Likelihood optimization failed to \"\n"
     ]
    },
    {
     "name": "stdout",
     "output_type": "stream",
     "text": [
      "working on 80 of 252 -- 31% complete\r"
     ]
    },
    {
     "name": "stderr",
     "output_type": "stream",
     "text": [
      "C:\\Users\\Kartik\\AppData\\Local\\Programs\\Python\\Python310\\lib\\site-packages\\statsmodels\\base\\model.py:604: ConvergenceWarning: Maximum Likelihood optimization failed to converge. Check mle_retvals\n",
      "  warnings.warn(\"Maximum Likelihood optimization failed to \"\n"
     ]
    },
    {
     "name": "stdout",
     "output_type": "stream",
     "text": [
      "working on 81 of 252 -- 32% complete\r"
     ]
    },
    {
     "name": "stderr",
     "output_type": "stream",
     "text": [
      "C:\\Users\\Kartik\\AppData\\Local\\Programs\\Python\\Python310\\lib\\site-packages\\statsmodels\\base\\model.py:604: ConvergenceWarning: Maximum Likelihood optimization failed to converge. Check mle_retvals\n",
      "  warnings.warn(\"Maximum Likelihood optimization failed to \"\n"
     ]
    },
    {
     "name": "stdout",
     "output_type": "stream",
     "text": [
      "working on 82 of 252 -- 32% complete\r"
     ]
    },
    {
     "name": "stderr",
     "output_type": "stream",
     "text": [
      "C:\\Users\\Kartik\\AppData\\Local\\Programs\\Python\\Python310\\lib\\site-packages\\statsmodels\\base\\model.py:604: ConvergenceWarning: Maximum Likelihood optimization failed to converge. Check mle_retvals\n",
      "  warnings.warn(\"Maximum Likelihood optimization failed to \"\n"
     ]
    },
    {
     "name": "stdout",
     "output_type": "stream",
     "text": [
      "working on 83 of 252 -- 32% complete\r"
     ]
    },
    {
     "name": "stderr",
     "output_type": "stream",
     "text": [
      "C:\\Users\\Kartik\\AppData\\Local\\Programs\\Python\\Python310\\lib\\site-packages\\statsmodels\\base\\model.py:604: ConvergenceWarning: Maximum Likelihood optimization failed to converge. Check mle_retvals\n",
      "  warnings.warn(\"Maximum Likelihood optimization failed to \"\n"
     ]
    },
    {
     "name": "stdout",
     "output_type": "stream",
     "text": [
      "working on 84 of 252 -- 33% complete\r"
     ]
    },
    {
     "name": "stderr",
     "output_type": "stream",
     "text": [
      "C:\\Users\\Kartik\\AppData\\Local\\Programs\\Python\\Python310\\lib\\site-packages\\statsmodels\\base\\model.py:604: ConvergenceWarning: Maximum Likelihood optimization failed to converge. Check mle_retvals\n",
      "  warnings.warn(\"Maximum Likelihood optimization failed to \"\n"
     ]
    },
    {
     "name": "stdout",
     "output_type": "stream",
     "text": [
      "working on 85 of 252 -- 33% complete\r"
     ]
    },
    {
     "name": "stderr",
     "output_type": "stream",
     "text": [
      "C:\\Users\\Kartik\\AppData\\Local\\Programs\\Python\\Python310\\lib\\site-packages\\statsmodels\\base\\model.py:604: ConvergenceWarning: Maximum Likelihood optimization failed to converge. Check mle_retvals\n",
      "  warnings.warn(\"Maximum Likelihood optimization failed to \"\n"
     ]
    },
    {
     "name": "stdout",
     "output_type": "stream",
     "text": [
      "working on 86 of 252 -- 34% complete\r"
     ]
    },
    {
     "name": "stderr",
     "output_type": "stream",
     "text": [
      "C:\\Users\\Kartik\\AppData\\Local\\Programs\\Python\\Python310\\lib\\site-packages\\statsmodels\\base\\model.py:604: ConvergenceWarning: Maximum Likelihood optimization failed to converge. Check mle_retvals\n",
      "  warnings.warn(\"Maximum Likelihood optimization failed to \"\n"
     ]
    },
    {
     "name": "stdout",
     "output_type": "stream",
     "text": [
      "working on 87 of 252 -- 34% complete\r"
     ]
    },
    {
     "name": "stderr",
     "output_type": "stream",
     "text": [
      "C:\\Users\\Kartik\\AppData\\Local\\Programs\\Python\\Python310\\lib\\site-packages\\statsmodels\\base\\model.py:604: ConvergenceWarning: Maximum Likelihood optimization failed to converge. Check mle_retvals\n",
      "  warnings.warn(\"Maximum Likelihood optimization failed to \"\n"
     ]
    },
    {
     "name": "stdout",
     "output_type": "stream",
     "text": [
      "working on 88 of 252 -- 34% complete\r"
     ]
    },
    {
     "name": "stderr",
     "output_type": "stream",
     "text": [
      "C:\\Users\\Kartik\\AppData\\Local\\Programs\\Python\\Python310\\lib\\site-packages\\statsmodels\\base\\model.py:604: ConvergenceWarning: Maximum Likelihood optimization failed to converge. Check mle_retvals\n",
      "  warnings.warn(\"Maximum Likelihood optimization failed to \"\n"
     ]
    },
    {
     "name": "stdout",
     "output_type": "stream",
     "text": [
      "working on 89 of 252 -- 35% complete\r"
     ]
    },
    {
     "name": "stderr",
     "output_type": "stream",
     "text": [
      "C:\\Users\\Kartik\\AppData\\Local\\Programs\\Python\\Python310\\lib\\site-packages\\statsmodels\\base\\model.py:604: ConvergenceWarning: Maximum Likelihood optimization failed to converge. Check mle_retvals\n",
      "  warnings.warn(\"Maximum Likelihood optimization failed to \"\n"
     ]
    },
    {
     "name": "stdout",
     "output_type": "stream",
     "text": [
      "working on 90 of 252 -- 35% complete\r"
     ]
    },
    {
     "name": "stderr",
     "output_type": "stream",
     "text": [
      "C:\\Users\\Kartik\\AppData\\Local\\Programs\\Python\\Python310\\lib\\site-packages\\statsmodels\\base\\model.py:604: ConvergenceWarning: Maximum Likelihood optimization failed to converge. Check mle_retvals\n",
      "  warnings.warn(\"Maximum Likelihood optimization failed to \"\n"
     ]
    },
    {
     "name": "stdout",
     "output_type": "stream",
     "text": [
      "working on 99 of 252 -- 39% complete\r"
     ]
    },
    {
     "name": "stderr",
     "output_type": "stream",
     "text": [
      "C:\\Users\\Kartik\\AppData\\Local\\Programs\\Python\\Python310\\lib\\site-packages\\statsmodels\\base\\model.py:604: ConvergenceWarning: Maximum Likelihood optimization failed to converge. Check mle_retvals\n",
      "  warnings.warn(\"Maximum Likelihood optimization failed to \"\n"
     ]
    },
    {
     "name": "stdout",
     "output_type": "stream",
     "text": [
      "working on 102 of 252 -- 40% complete\r"
     ]
    },
    {
     "name": "stderr",
     "output_type": "stream",
     "text": [
      "C:\\Users\\Kartik\\AppData\\Local\\Programs\\Python\\Python310\\lib\\site-packages\\statsmodels\\base\\model.py:604: ConvergenceWarning: Maximum Likelihood optimization failed to converge. Check mle_retvals\n",
      "  warnings.warn(\"Maximum Likelihood optimization failed to \"\n"
     ]
    },
    {
     "name": "stdout",
     "output_type": "stream",
     "text": [
      "working on 104 of 252 -- 41% complete\r"
     ]
    },
    {
     "name": "stderr",
     "output_type": "stream",
     "text": [
      "C:\\Users\\Kartik\\AppData\\Local\\Programs\\Python\\Python310\\lib\\site-packages\\statsmodels\\base\\model.py:604: ConvergenceWarning: Maximum Likelihood optimization failed to converge. Check mle_retvals\n",
      "  warnings.warn(\"Maximum Likelihood optimization failed to \"\n"
     ]
    },
    {
     "name": "stdout",
     "output_type": "stream",
     "text": [
      "working on 105 of 252 -- 41% complete\r"
     ]
    },
    {
     "name": "stderr",
     "output_type": "stream",
     "text": [
      "C:\\Users\\Kartik\\AppData\\Local\\Programs\\Python\\Python310\\lib\\site-packages\\statsmodels\\base\\model.py:604: ConvergenceWarning: Maximum Likelihood optimization failed to converge. Check mle_retvals\n",
      "  warnings.warn(\"Maximum Likelihood optimization failed to \"\n"
     ]
    },
    {
     "name": "stdout",
     "output_type": "stream",
     "text": [
      "working on 106 of 252 -- 42% complete\r"
     ]
    },
    {
     "name": "stderr",
     "output_type": "stream",
     "text": [
      "C:\\Users\\Kartik\\AppData\\Local\\Programs\\Python\\Python310\\lib\\site-packages\\statsmodels\\base\\model.py:604: ConvergenceWarning: Maximum Likelihood optimization failed to converge. Check mle_retvals\n",
      "  warnings.warn(\"Maximum Likelihood optimization failed to \"\n"
     ]
    },
    {
     "name": "stdout",
     "output_type": "stream",
     "text": [
      "working on 115 of 252 -- 45% complete\r"
     ]
    },
    {
     "name": "stderr",
     "output_type": "stream",
     "text": [
      "C:\\Users\\Kartik\\AppData\\Local\\Programs\\Python\\Python310\\lib\\site-packages\\statsmodels\\base\\model.py:604: ConvergenceWarning: Maximum Likelihood optimization failed to converge. Check mle_retvals\n",
      "  warnings.warn(\"Maximum Likelihood optimization failed to \"\n"
     ]
    },
    {
     "name": "stdout",
     "output_type": "stream",
     "text": [
      "working on 123 of 252 -- 48% complete\r"
     ]
    },
    {
     "name": "stderr",
     "output_type": "stream",
     "text": [
      "C:\\Users\\Kartik\\AppData\\Local\\Programs\\Python\\Python310\\lib\\site-packages\\statsmodels\\base\\model.py:604: ConvergenceWarning: Maximum Likelihood optimization failed to converge. Check mle_retvals\n",
      "  warnings.warn(\"Maximum Likelihood optimization failed to \"\n"
     ]
    },
    {
     "name": "stdout",
     "output_type": "stream",
     "text": [
      "working on 126 of 252 -- 50% complete\r"
     ]
    },
    {
     "name": "stderr",
     "output_type": "stream",
     "text": [
      "C:\\Users\\Kartik\\AppData\\Local\\Programs\\Python\\Python310\\lib\\site-packages\\statsmodels\\base\\model.py:604: ConvergenceWarning: Maximum Likelihood optimization failed to converge. Check mle_retvals\n",
      "  warnings.warn(\"Maximum Likelihood optimization failed to \"\n"
     ]
    },
    {
     "name": "stdout",
     "output_type": "stream",
     "text": [
      "working on 127 of 252 -- 50% complete\r"
     ]
    },
    {
     "name": "stderr",
     "output_type": "stream",
     "text": [
      "C:\\Users\\Kartik\\AppData\\Local\\Programs\\Python\\Python310\\lib\\site-packages\\statsmodels\\base\\model.py:604: ConvergenceWarning: Maximum Likelihood optimization failed to converge. Check mle_retvals\n",
      "  warnings.warn(\"Maximum Likelihood optimization failed to \"\n"
     ]
    },
    {
     "name": "stdout",
     "output_type": "stream",
     "text": [
      "working on 132 of 252 -- 52% complete\r"
     ]
    },
    {
     "name": "stderr",
     "output_type": "stream",
     "text": [
      "C:\\Users\\Kartik\\AppData\\Local\\Programs\\Python\\Python310\\lib\\site-packages\\statsmodels\\base\\model.py:604: ConvergenceWarning: Maximum Likelihood optimization failed to converge. Check mle_retvals\n",
      "  warnings.warn(\"Maximum Likelihood optimization failed to \"\n"
     ]
    },
    {
     "name": "stdout",
     "output_type": "stream",
     "text": [
      "working on 134 of 252 -- 53% complete\r"
     ]
    },
    {
     "name": "stderr",
     "output_type": "stream",
     "text": [
      "C:\\Users\\Kartik\\AppData\\Local\\Programs\\Python\\Python310\\lib\\site-packages\\statsmodels\\base\\model.py:604: ConvergenceWarning: Maximum Likelihood optimization failed to converge. Check mle_retvals\n",
      "  warnings.warn(\"Maximum Likelihood optimization failed to \"\n"
     ]
    },
    {
     "name": "stdout",
     "output_type": "stream",
     "text": [
      "working on 136 of 252 -- 53% complete\r"
     ]
    },
    {
     "name": "stderr",
     "output_type": "stream",
     "text": [
      "C:\\Users\\Kartik\\AppData\\Local\\Programs\\Python\\Python310\\lib\\site-packages\\statsmodels\\base\\model.py:604: ConvergenceWarning: Maximum Likelihood optimization failed to converge. Check mle_retvals\n",
      "  warnings.warn(\"Maximum Likelihood optimization failed to \"\n"
     ]
    },
    {
     "name": "stdout",
     "output_type": "stream",
     "text": [
      "working on 138 of 252 -- 54% complete\r"
     ]
    },
    {
     "name": "stderr",
     "output_type": "stream",
     "text": [
      "C:\\Users\\Kartik\\AppData\\Local\\Programs\\Python\\Python310\\lib\\site-packages\\statsmodels\\base\\model.py:604: ConvergenceWarning: Maximum Likelihood optimization failed to converge. Check mle_retvals\n",
      "  warnings.warn(\"Maximum Likelihood optimization failed to \"\n"
     ]
    },
    {
     "name": "stdout",
     "output_type": "stream",
     "text": [
      "working on 140 of 252 -- 55% complete\r"
     ]
    },
    {
     "name": "stderr",
     "output_type": "stream",
     "text": [
      "C:\\Users\\Kartik\\AppData\\Local\\Programs\\Python\\Python310\\lib\\site-packages\\statsmodels\\base\\model.py:604: ConvergenceWarning: Maximum Likelihood optimization failed to converge. Check mle_retvals\n",
      "  warnings.warn(\"Maximum Likelihood optimization failed to \"\n"
     ]
    },
    {
     "name": "stdout",
     "output_type": "stream",
     "text": [
      "working on 141 of 252 -- 55% complete\r"
     ]
    },
    {
     "name": "stderr",
     "output_type": "stream",
     "text": [
      "C:\\Users\\Kartik\\AppData\\Local\\Programs\\Python\\Python310\\lib\\site-packages\\statsmodels\\base\\model.py:604: ConvergenceWarning: Maximum Likelihood optimization failed to converge. Check mle_retvals\n",
      "  warnings.warn(\"Maximum Likelihood optimization failed to \"\n"
     ]
    },
    {
     "name": "stdout",
     "output_type": "stream",
     "text": [
      "working on 142 of 252 -- 56% complete\r"
     ]
    },
    {
     "name": "stderr",
     "output_type": "stream",
     "text": [
      "C:\\Users\\Kartik\\AppData\\Local\\Programs\\Python\\Python310\\lib\\site-packages\\statsmodels\\base\\model.py:604: ConvergenceWarning: Maximum Likelihood optimization failed to converge. Check mle_retvals\n",
      "  warnings.warn(\"Maximum Likelihood optimization failed to \"\n"
     ]
    },
    {
     "name": "stdout",
     "output_type": "stream",
     "text": [
      "working on 143 of 252 -- 56% complete\r"
     ]
    },
    {
     "name": "stderr",
     "output_type": "stream",
     "text": [
      "C:\\Users\\Kartik\\AppData\\Local\\Programs\\Python\\Python310\\lib\\site-packages\\statsmodels\\base\\model.py:604: ConvergenceWarning: Maximum Likelihood optimization failed to converge. Check mle_retvals\n",
      "  warnings.warn(\"Maximum Likelihood optimization failed to \"\n"
     ]
    },
    {
     "name": "stdout",
     "output_type": "stream",
     "text": [
      "working on 144 of 252 -- 57% complete\r"
     ]
    },
    {
     "name": "stderr",
     "output_type": "stream",
     "text": [
      "C:\\Users\\Kartik\\AppData\\Local\\Programs\\Python\\Python310\\lib\\site-packages\\statsmodels\\base\\model.py:604: ConvergenceWarning: Maximum Likelihood optimization failed to converge. Check mle_retvals\n",
      "  warnings.warn(\"Maximum Likelihood optimization failed to \"\n"
     ]
    },
    {
     "name": "stdout",
     "output_type": "stream",
     "text": [
      "working on 145 of 252 -- 57% complete\r"
     ]
    },
    {
     "name": "stderr",
     "output_type": "stream",
     "text": [
      "C:\\Users\\Kartik\\AppData\\Local\\Programs\\Python\\Python310\\lib\\site-packages\\statsmodels\\base\\model.py:604: ConvergenceWarning: Maximum Likelihood optimization failed to converge. Check mle_retvals\n",
      "  warnings.warn(\"Maximum Likelihood optimization failed to \"\n"
     ]
    },
    {
     "name": "stdout",
     "output_type": "stream",
     "text": [
      "working on 146 of 252 -- 57% complete\r"
     ]
    },
    {
     "name": "stderr",
     "output_type": "stream",
     "text": [
      "C:\\Users\\Kartik\\AppData\\Local\\Programs\\Python\\Python310\\lib\\site-packages\\statsmodels\\base\\model.py:604: ConvergenceWarning: Maximum Likelihood optimization failed to converge. Check mle_retvals\n",
      "  warnings.warn(\"Maximum Likelihood optimization failed to \"\n"
     ]
    },
    {
     "name": "stdout",
     "output_type": "stream",
     "text": [
      "working on 147 of 252 -- 58% complete\r"
     ]
    },
    {
     "name": "stderr",
     "output_type": "stream",
     "text": [
      "C:\\Users\\Kartik\\AppData\\Local\\Programs\\Python\\Python310\\lib\\site-packages\\statsmodels\\base\\model.py:604: ConvergenceWarning: Maximum Likelihood optimization failed to converge. Check mle_retvals\n",
      "  warnings.warn(\"Maximum Likelihood optimization failed to \"\n"
     ]
    },
    {
     "name": "stdout",
     "output_type": "stream",
     "text": [
      "working on 148 of 252 -- 58% complete\r"
     ]
    },
    {
     "name": "stderr",
     "output_type": "stream",
     "text": [
      "C:\\Users\\Kartik\\AppData\\Local\\Programs\\Python\\Python310\\lib\\site-packages\\statsmodels\\base\\model.py:604: ConvergenceWarning: Maximum Likelihood optimization failed to converge. Check mle_retvals\n",
      "  warnings.warn(\"Maximum Likelihood optimization failed to \"\n"
     ]
    },
    {
     "name": "stdout",
     "output_type": "stream",
     "text": [
      "working on 150 of 252 -- 59% complete\r"
     ]
    },
    {
     "name": "stderr",
     "output_type": "stream",
     "text": [
      "C:\\Users\\Kartik\\AppData\\Local\\Programs\\Python\\Python310\\lib\\site-packages\\statsmodels\\base\\model.py:604: ConvergenceWarning: Maximum Likelihood optimization failed to converge. Check mle_retvals\n",
      "  warnings.warn(\"Maximum Likelihood optimization failed to \"\n"
     ]
    },
    {
     "name": "stdout",
     "output_type": "stream",
     "text": [
      "working on 151 of 252 -- 59% complete\r"
     ]
    },
    {
     "name": "stderr",
     "output_type": "stream",
     "text": [
      "C:\\Users\\Kartik\\AppData\\Local\\Programs\\Python\\Python310\\lib\\site-packages\\statsmodels\\base\\model.py:604: ConvergenceWarning: Maximum Likelihood optimization failed to converge. Check mle_retvals\n",
      "  warnings.warn(\"Maximum Likelihood optimization failed to \"\n"
     ]
    },
    {
     "name": "stdout",
     "output_type": "stream",
     "text": [
      "working on 152 of 252 -- 60% complete\r"
     ]
    },
    {
     "name": "stderr",
     "output_type": "stream",
     "text": [
      "C:\\Users\\Kartik\\AppData\\Local\\Programs\\Python\\Python310\\lib\\site-packages\\statsmodels\\base\\model.py:604: ConvergenceWarning: Maximum Likelihood optimization failed to converge. Check mle_retvals\n",
      "  warnings.warn(\"Maximum Likelihood optimization failed to \"\n"
     ]
    },
    {
     "name": "stdout",
     "output_type": "stream",
     "text": [
      "working on 154 of 252 -- 61% complete\r"
     ]
    },
    {
     "name": "stderr",
     "output_type": "stream",
     "text": [
      "C:\\Users\\Kartik\\AppData\\Local\\Programs\\Python\\Python310\\lib\\site-packages\\statsmodels\\base\\model.py:604: ConvergenceWarning: Maximum Likelihood optimization failed to converge. Check mle_retvals\n",
      "  warnings.warn(\"Maximum Likelihood optimization failed to \"\n"
     ]
    },
    {
     "name": "stdout",
     "output_type": "stream",
     "text": [
      "working on 156 of 252 -- 61% complete\r"
     ]
    },
    {
     "name": "stderr",
     "output_type": "stream",
     "text": [
      "C:\\Users\\Kartik\\AppData\\Local\\Programs\\Python\\Python310\\lib\\site-packages\\statsmodels\\base\\model.py:604: ConvergenceWarning: Maximum Likelihood optimization failed to converge. Check mle_retvals\n",
      "  warnings.warn(\"Maximum Likelihood optimization failed to \"\n"
     ]
    },
    {
     "name": "stdout",
     "output_type": "stream",
     "text": [
      "working on 157 of 252 -- 62% complete\r"
     ]
    },
    {
     "name": "stderr",
     "output_type": "stream",
     "text": [
      "C:\\Users\\Kartik\\AppData\\Local\\Programs\\Python\\Python310\\lib\\site-packages\\statsmodels\\base\\model.py:604: ConvergenceWarning: Maximum Likelihood optimization failed to converge. Check mle_retvals\n",
      "  warnings.warn(\"Maximum Likelihood optimization failed to \"\n"
     ]
    },
    {
     "name": "stdout",
     "output_type": "stream",
     "text": [
      "working on 161 of 252 -- 63% complete\r"
     ]
    },
    {
     "name": "stderr",
     "output_type": "stream",
     "text": [
      "C:\\Users\\Kartik\\AppData\\Local\\Programs\\Python\\Python310\\lib\\site-packages\\statsmodels\\base\\model.py:604: ConvergenceWarning: Maximum Likelihood optimization failed to converge. Check mle_retvals\n",
      "  warnings.warn(\"Maximum Likelihood optimization failed to \"\n"
     ]
    },
    {
     "name": "stdout",
     "output_type": "stream",
     "text": [
      "working on 162 of 252 -- 64% complete\r"
     ]
    },
    {
     "name": "stderr",
     "output_type": "stream",
     "text": [
      "C:\\Users\\Kartik\\AppData\\Local\\Programs\\Python\\Python310\\lib\\site-packages\\statsmodels\\base\\model.py:604: ConvergenceWarning: Maximum Likelihood optimization failed to converge. Check mle_retvals\n",
      "  warnings.warn(\"Maximum Likelihood optimization failed to \"\n"
     ]
    },
    {
     "name": "stdout",
     "output_type": "stream",
     "text": [
      "working on 163 of 252 -- 64% complete\r"
     ]
    },
    {
     "name": "stderr",
     "output_type": "stream",
     "text": [
      "C:\\Users\\Kartik\\AppData\\Local\\Programs\\Python\\Python310\\lib\\site-packages\\statsmodels\\base\\model.py:604: ConvergenceWarning: Maximum Likelihood optimization failed to converge. Check mle_retvals\n",
      "  warnings.warn(\"Maximum Likelihood optimization failed to \"\n"
     ]
    },
    {
     "name": "stdout",
     "output_type": "stream",
     "text": [
      "working on 165 of 252 -- 65% complete\r"
     ]
    },
    {
     "name": "stderr",
     "output_type": "stream",
     "text": [
      "C:\\Users\\Kartik\\AppData\\Local\\Programs\\Python\\Python310\\lib\\site-packages\\statsmodels\\base\\model.py:604: ConvergenceWarning: Maximum Likelihood optimization failed to converge. Check mle_retvals\n",
      "  warnings.warn(\"Maximum Likelihood optimization failed to \"\n"
     ]
    },
    {
     "name": "stdout",
     "output_type": "stream",
     "text": [
      "working on 166 of 252 -- 65% complete\r"
     ]
    },
    {
     "name": "stderr",
     "output_type": "stream",
     "text": [
      "C:\\Users\\Kartik\\AppData\\Local\\Programs\\Python\\Python310\\lib\\site-packages\\statsmodels\\base\\model.py:604: ConvergenceWarning: Maximum Likelihood optimization failed to converge. Check mle_retvals\n",
      "  warnings.warn(\"Maximum Likelihood optimization failed to \"\n"
     ]
    },
    {
     "name": "stdout",
     "output_type": "stream",
     "text": [
      "working on 168 of 252 -- 66% complete\r"
     ]
    },
    {
     "name": "stderr",
     "output_type": "stream",
     "text": [
      "C:\\Users\\Kartik\\AppData\\Local\\Programs\\Python\\Python310\\lib\\site-packages\\statsmodels\\base\\model.py:604: ConvergenceWarning: Maximum Likelihood optimization failed to converge. Check mle_retvals\n",
      "  warnings.warn(\"Maximum Likelihood optimization failed to \"\n"
     ]
    },
    {
     "name": "stdout",
     "output_type": "stream",
     "text": [
      "working on 169 of 252 -- 67% complete\r"
     ]
    },
    {
     "name": "stderr",
     "output_type": "stream",
     "text": [
      "C:\\Users\\Kartik\\AppData\\Local\\Programs\\Python\\Python310\\lib\\site-packages\\statsmodels\\base\\model.py:604: ConvergenceWarning: Maximum Likelihood optimization failed to converge. Check mle_retvals\n",
      "  warnings.warn(\"Maximum Likelihood optimization failed to \"\n"
     ]
    },
    {
     "name": "stdout",
     "output_type": "stream",
     "text": [
      "working on 171 of 252 -- 67% complete\r"
     ]
    },
    {
     "name": "stderr",
     "output_type": "stream",
     "text": [
      "C:\\Users\\Kartik\\AppData\\Local\\Programs\\Python\\Python310\\lib\\site-packages\\statsmodels\\base\\model.py:604: ConvergenceWarning: Maximum Likelihood optimization failed to converge. Check mle_retvals\n",
      "  warnings.warn(\"Maximum Likelihood optimization failed to \"\n"
     ]
    },
    {
     "name": "stdout",
     "output_type": "stream",
     "text": [
      "working on 172 of 252 -- 68% complete\r"
     ]
    },
    {
     "name": "stderr",
     "output_type": "stream",
     "text": [
      "C:\\Users\\Kartik\\AppData\\Local\\Programs\\Python\\Python310\\lib\\site-packages\\statsmodels\\base\\model.py:604: ConvergenceWarning: Maximum Likelihood optimization failed to converge. Check mle_retvals\n",
      "  warnings.warn(\"Maximum Likelihood optimization failed to \"\n"
     ]
    },
    {
     "name": "stdout",
     "output_type": "stream",
     "text": [
      "working on 173 of 252 -- 68% complete\r"
     ]
    },
    {
     "name": "stderr",
     "output_type": "stream",
     "text": [
      "C:\\Users\\Kartik\\AppData\\Local\\Programs\\Python\\Python310\\lib\\site-packages\\statsmodels\\base\\model.py:604: ConvergenceWarning: Maximum Likelihood optimization failed to converge. Check mle_retvals\n",
      "  warnings.warn(\"Maximum Likelihood optimization failed to \"\n"
     ]
    },
    {
     "name": "stdout",
     "output_type": "stream",
     "text": [
      "working on 174 of 252 -- 69% complete\r"
     ]
    },
    {
     "name": "stderr",
     "output_type": "stream",
     "text": [
      "C:\\Users\\Kartik\\AppData\\Local\\Programs\\Python\\Python310\\lib\\site-packages\\statsmodels\\base\\model.py:604: ConvergenceWarning: Maximum Likelihood optimization failed to converge. Check mle_retvals\n",
      "  warnings.warn(\"Maximum Likelihood optimization failed to \"\n"
     ]
    },
    {
     "name": "stdout",
     "output_type": "stream",
     "text": [
      "working on 175 of 252 -- 69% complete\r"
     ]
    },
    {
     "name": "stderr",
     "output_type": "stream",
     "text": [
      "C:\\Users\\Kartik\\AppData\\Local\\Programs\\Python\\Python310\\lib\\site-packages\\statsmodels\\base\\model.py:604: ConvergenceWarning: Maximum Likelihood optimization failed to converge. Check mle_retvals\n",
      "  warnings.warn(\"Maximum Likelihood optimization failed to \"\n"
     ]
    },
    {
     "name": "stdout",
     "output_type": "stream",
     "text": [
      "working on 176 of 252 -- 69% complete\r"
     ]
    },
    {
     "name": "stderr",
     "output_type": "stream",
     "text": [
      "C:\\Users\\Kartik\\AppData\\Local\\Programs\\Python\\Python310\\lib\\site-packages\\statsmodels\\base\\model.py:604: ConvergenceWarning: Maximum Likelihood optimization failed to converge. Check mle_retvals\n",
      "  warnings.warn(\"Maximum Likelihood optimization failed to \"\n"
     ]
    },
    {
     "name": "stdout",
     "output_type": "stream",
     "text": [
      "working on 177 of 252 -- 70% complete\r"
     ]
    },
    {
     "name": "stderr",
     "output_type": "stream",
     "text": [
      "C:\\Users\\Kartik\\AppData\\Local\\Programs\\Python\\Python310\\lib\\site-packages\\statsmodels\\base\\model.py:604: ConvergenceWarning: Maximum Likelihood optimization failed to converge. Check mle_retvals\n",
      "  warnings.warn(\"Maximum Likelihood optimization failed to \"\n"
     ]
    },
    {
     "name": "stdout",
     "output_type": "stream",
     "text": [
      "working on 178 of 252 -- 70% complete\r"
     ]
    },
    {
     "name": "stderr",
     "output_type": "stream",
     "text": [
      "C:\\Users\\Kartik\\AppData\\Local\\Programs\\Python\\Python310\\lib\\site-packages\\statsmodels\\base\\model.py:604: ConvergenceWarning: Maximum Likelihood optimization failed to converge. Check mle_retvals\n",
      "  warnings.warn(\"Maximum Likelihood optimization failed to \"\n"
     ]
    },
    {
     "name": "stdout",
     "output_type": "stream",
     "text": [
      "working on 179 of 252 -- 71% complete\r"
     ]
    },
    {
     "name": "stderr",
     "output_type": "stream",
     "text": [
      "C:\\Users\\Kartik\\AppData\\Local\\Programs\\Python\\Python310\\lib\\site-packages\\statsmodels\\base\\model.py:604: ConvergenceWarning: Maximum Likelihood optimization failed to converge. Check mle_retvals\n",
      "  warnings.warn(\"Maximum Likelihood optimization failed to \"\n"
     ]
    },
    {
     "name": "stdout",
     "output_type": "stream",
     "text": [
      "working on 180 of 252 -- 71% complete\r"
     ]
    },
    {
     "name": "stderr",
     "output_type": "stream",
     "text": [
      "C:\\Users\\Kartik\\AppData\\Local\\Programs\\Python\\Python310\\lib\\site-packages\\statsmodels\\base\\model.py:604: ConvergenceWarning: Maximum Likelihood optimization failed to converge. Check mle_retvals\n",
      "  warnings.warn(\"Maximum Likelihood optimization failed to \"\n"
     ]
    },
    {
     "name": "stdout",
     "output_type": "stream",
     "text": [
      "working on 181 of 252 -- 71% complete\r"
     ]
    },
    {
     "name": "stderr",
     "output_type": "stream",
     "text": [
      "C:\\Users\\Kartik\\AppData\\Local\\Programs\\Python\\Python310\\lib\\site-packages\\statsmodels\\base\\model.py:604: ConvergenceWarning: Maximum Likelihood optimization failed to converge. Check mle_retvals\n",
      "  warnings.warn(\"Maximum Likelihood optimization failed to \"\n"
     ]
    },
    {
     "name": "stdout",
     "output_type": "stream",
     "text": [
      "working on 182 of 252 -- 72% complete\r"
     ]
    },
    {
     "name": "stderr",
     "output_type": "stream",
     "text": [
      "C:\\Users\\Kartik\\AppData\\Local\\Programs\\Python\\Python310\\lib\\site-packages\\statsmodels\\base\\model.py:604: ConvergenceWarning: Maximum Likelihood optimization failed to converge. Check mle_retvals\n",
      "  warnings.warn(\"Maximum Likelihood optimization failed to \"\n"
     ]
    },
    {
     "name": "stdout",
     "output_type": "stream",
     "text": [
      "working on 188 of 252 -- 74% complete\r"
     ]
    },
    {
     "name": "stderr",
     "output_type": "stream",
     "text": [
      "C:\\Users\\Kartik\\AppData\\Local\\Programs\\Python\\Python310\\lib\\site-packages\\statsmodels\\base\\model.py:604: ConvergenceWarning: Maximum Likelihood optimization failed to converge. Check mle_retvals\n",
      "  warnings.warn(\"Maximum Likelihood optimization failed to \"\n"
     ]
    },
    {
     "name": "stdout",
     "output_type": "stream",
     "text": [
      "working on 193 of 252 -- 76% complete\r"
     ]
    },
    {
     "name": "stderr",
     "output_type": "stream",
     "text": [
      "C:\\Users\\Kartik\\AppData\\Local\\Programs\\Python\\Python310\\lib\\site-packages\\statsmodels\\base\\model.py:604: ConvergenceWarning: Maximum Likelihood optimization failed to converge. Check mle_retvals\n",
      "  warnings.warn(\"Maximum Likelihood optimization failed to \"\n"
     ]
    },
    {
     "name": "stdout",
     "output_type": "stream",
     "text": [
      "working on 197 of 252 -- 78% complete\r"
     ]
    },
    {
     "name": "stderr",
     "output_type": "stream",
     "text": [
      "C:\\Users\\Kartik\\AppData\\Local\\Programs\\Python\\Python310\\lib\\site-packages\\statsmodels\\base\\model.py:604: ConvergenceWarning: Maximum Likelihood optimization failed to converge. Check mle_retvals\n",
      "  warnings.warn(\"Maximum Likelihood optimization failed to \"\n"
     ]
    },
    {
     "name": "stdout",
     "output_type": "stream",
     "text": [
      "working on 198 of 252 -- 78% complete\r"
     ]
    },
    {
     "name": "stderr",
     "output_type": "stream",
     "text": [
      "C:\\Users\\Kartik\\AppData\\Local\\Programs\\Python\\Python310\\lib\\site-packages\\statsmodels\\base\\model.py:604: ConvergenceWarning: Maximum Likelihood optimization failed to converge. Check mle_retvals\n",
      "  warnings.warn(\"Maximum Likelihood optimization failed to \"\n"
     ]
    },
    {
     "name": "stdout",
     "output_type": "stream",
     "text": [
      "working on 203 of 252 -- 80% complete\r"
     ]
    },
    {
     "name": "stderr",
     "output_type": "stream",
     "text": [
      "C:\\Users\\Kartik\\AppData\\Local\\Programs\\Python\\Python310\\lib\\site-packages\\statsmodels\\base\\model.py:604: ConvergenceWarning: Maximum Likelihood optimization failed to converge. Check mle_retvals\n",
      "  warnings.warn(\"Maximum Likelihood optimization failed to \"\n"
     ]
    },
    {
     "name": "stdout",
     "output_type": "stream",
     "text": [
      "working on 205 of 252 -- 81% complete\r"
     ]
    },
    {
     "name": "stderr",
     "output_type": "stream",
     "text": [
      "C:\\Users\\Kartik\\AppData\\Local\\Programs\\Python\\Python310\\lib\\site-packages\\statsmodels\\base\\model.py:604: ConvergenceWarning: Maximum Likelihood optimization failed to converge. Check mle_retvals\n",
      "  warnings.warn(\"Maximum Likelihood optimization failed to \"\n"
     ]
    },
    {
     "name": "stdout",
     "output_type": "stream",
     "text": [
      "working on 206 of 252 -- 81% complete\r"
     ]
    },
    {
     "name": "stderr",
     "output_type": "stream",
     "text": [
      "C:\\Users\\Kartik\\AppData\\Local\\Programs\\Python\\Python310\\lib\\site-packages\\statsmodels\\base\\model.py:604: ConvergenceWarning: Maximum Likelihood optimization failed to converge. Check mle_retvals\n",
      "  warnings.warn(\"Maximum Likelihood optimization failed to \"\n"
     ]
    },
    {
     "name": "stdout",
     "output_type": "stream",
     "text": [
      "working on 208 of 252 -- 82% complete\r"
     ]
    },
    {
     "name": "stderr",
     "output_type": "stream",
     "text": [
      "C:\\Users\\Kartik\\AppData\\Local\\Programs\\Python\\Python310\\lib\\site-packages\\statsmodels\\base\\model.py:604: ConvergenceWarning: Maximum Likelihood optimization failed to converge. Check mle_retvals\n",
      "  warnings.warn(\"Maximum Likelihood optimization failed to \"\n"
     ]
    },
    {
     "name": "stdout",
     "output_type": "stream",
     "text": [
      "working on 218 of 252 -- 86% complete\r"
     ]
    },
    {
     "name": "stderr",
     "output_type": "stream",
     "text": [
      "C:\\Users\\Kartik\\AppData\\Local\\Programs\\Python\\Python310\\lib\\site-packages\\statsmodels\\base\\model.py:604: ConvergenceWarning: Maximum Likelihood optimization failed to converge. Check mle_retvals\n",
      "  warnings.warn(\"Maximum Likelihood optimization failed to \"\n"
     ]
    },
    {
     "name": "stdout",
     "output_type": "stream",
     "text": [
      "working on 221 of 252 -- 87% complete\r"
     ]
    },
    {
     "name": "stderr",
     "output_type": "stream",
     "text": [
      "C:\\Users\\Kartik\\AppData\\Local\\Programs\\Python\\Python310\\lib\\site-packages\\statsmodels\\base\\model.py:604: ConvergenceWarning: Maximum Likelihood optimization failed to converge. Check mle_retvals\n",
      "  warnings.warn(\"Maximum Likelihood optimization failed to \"\n"
     ]
    },
    {
     "name": "stdout",
     "output_type": "stream",
     "text": [
      "working on 222 of 252 -- 88% complete\r"
     ]
    },
    {
     "name": "stderr",
     "output_type": "stream",
     "text": [
      "C:\\Users\\Kartik\\AppData\\Local\\Programs\\Python\\Python310\\lib\\site-packages\\statsmodels\\base\\model.py:604: ConvergenceWarning: Maximum Likelihood optimization failed to converge. Check mle_retvals\n",
      "  warnings.warn(\"Maximum Likelihood optimization failed to \"\n"
     ]
    },
    {
     "name": "stdout",
     "output_type": "stream",
     "text": [
      "working on 223 of 252 -- 88% complete\r"
     ]
    },
    {
     "name": "stderr",
     "output_type": "stream",
     "text": [
      "C:\\Users\\Kartik\\AppData\\Local\\Programs\\Python\\Python310\\lib\\site-packages\\statsmodels\\base\\model.py:604: ConvergenceWarning: Maximum Likelihood optimization failed to converge. Check mle_retvals\n",
      "  warnings.warn(\"Maximum Likelihood optimization failed to \"\n"
     ]
    },
    {
     "name": "stdout",
     "output_type": "stream",
     "text": [
      "working on 224 of 252 -- 88% complete\r"
     ]
    },
    {
     "name": "stderr",
     "output_type": "stream",
     "text": [
      "C:\\Users\\Kartik\\AppData\\Local\\Programs\\Python\\Python310\\lib\\site-packages\\statsmodels\\base\\model.py:604: ConvergenceWarning: Maximum Likelihood optimization failed to converge. Check mle_retvals\n",
      "  warnings.warn(\"Maximum Likelihood optimization failed to \"\n"
     ]
    },
    {
     "name": "stdout",
     "output_type": "stream",
     "text": [
      "working on 225 of 252 -- 89% complete\r"
     ]
    },
    {
     "name": "stderr",
     "output_type": "stream",
     "text": [
      "C:\\Users\\Kartik\\AppData\\Local\\Programs\\Python\\Python310\\lib\\site-packages\\statsmodels\\base\\model.py:604: ConvergenceWarning: Maximum Likelihood optimization failed to converge. Check mle_retvals\n",
      "  warnings.warn(\"Maximum Likelihood optimization failed to \"\n"
     ]
    },
    {
     "name": "stdout",
     "output_type": "stream",
     "text": [
      "working on 226 of 252 -- 89% complete\r"
     ]
    },
    {
     "name": "stderr",
     "output_type": "stream",
     "text": [
      "C:\\Users\\Kartik\\AppData\\Local\\Programs\\Python\\Python310\\lib\\site-packages\\statsmodels\\base\\model.py:604: ConvergenceWarning: Maximum Likelihood optimization failed to converge. Check mle_retvals\n",
      "  warnings.warn(\"Maximum Likelihood optimization failed to \"\n"
     ]
    },
    {
     "name": "stdout",
     "output_type": "stream",
     "text": [
      "working on 227 of 252 -- 90% complete\r"
     ]
    },
    {
     "name": "stderr",
     "output_type": "stream",
     "text": [
      "C:\\Users\\Kartik\\AppData\\Local\\Programs\\Python\\Python310\\lib\\site-packages\\statsmodels\\base\\model.py:604: ConvergenceWarning: Maximum Likelihood optimization failed to converge. Check mle_retvals\n",
      "  warnings.warn(\"Maximum Likelihood optimization failed to \"\n"
     ]
    },
    {
     "name": "stdout",
     "output_type": "stream",
     "text": [
      "working on 228 of 252 -- 90% complete\r"
     ]
    },
    {
     "name": "stderr",
     "output_type": "stream",
     "text": [
      "C:\\Users\\Kartik\\AppData\\Local\\Programs\\Python\\Python310\\lib\\site-packages\\statsmodels\\base\\model.py:604: ConvergenceWarning: Maximum Likelihood optimization failed to converge. Check mle_retvals\n",
      "  warnings.warn(\"Maximum Likelihood optimization failed to \"\n"
     ]
    },
    {
     "name": "stdout",
     "output_type": "stream",
     "text": [
      "working on 229 of 252 -- 90% complete\r"
     ]
    },
    {
     "name": "stderr",
     "output_type": "stream",
     "text": [
      "C:\\Users\\Kartik\\AppData\\Local\\Programs\\Python\\Python310\\lib\\site-packages\\statsmodels\\base\\model.py:604: ConvergenceWarning: Maximum Likelihood optimization failed to converge. Check mle_retvals\n",
      "  warnings.warn(\"Maximum Likelihood optimization failed to \"\n"
     ]
    },
    {
     "name": "stdout",
     "output_type": "stream",
     "text": [
      "working on 230 of 252 -- 91% complete\r"
     ]
    },
    {
     "name": "stderr",
     "output_type": "stream",
     "text": [
      "C:\\Users\\Kartik\\AppData\\Local\\Programs\\Python\\Python310\\lib\\site-packages\\statsmodels\\base\\model.py:604: ConvergenceWarning: Maximum Likelihood optimization failed to converge. Check mle_retvals\n",
      "  warnings.warn(\"Maximum Likelihood optimization failed to \"\n"
     ]
    },
    {
     "name": "stdout",
     "output_type": "stream",
     "text": [
      "working on 231 of 252 -- 91% complete\r"
     ]
    },
    {
     "name": "stderr",
     "output_type": "stream",
     "text": [
      "C:\\Users\\Kartik\\AppData\\Local\\Programs\\Python\\Python310\\lib\\site-packages\\statsmodels\\base\\model.py:604: ConvergenceWarning: Maximum Likelihood optimization failed to converge. Check mle_retvals\n",
      "  warnings.warn(\"Maximum Likelihood optimization failed to \"\n"
     ]
    },
    {
     "name": "stdout",
     "output_type": "stream",
     "text": [
      "working on 234 of 252 -- 92% complete\r"
     ]
    },
    {
     "name": "stderr",
     "output_type": "stream",
     "text": [
      "C:\\Users\\Kartik\\AppData\\Local\\Programs\\Python\\Python310\\lib\\site-packages\\statsmodels\\base\\model.py:604: ConvergenceWarning: Maximum Likelihood optimization failed to converge. Check mle_retvals\n",
      "  warnings.warn(\"Maximum Likelihood optimization failed to \"\n"
     ]
    },
    {
     "name": "stdout",
     "output_type": "stream",
     "text": [
      "working on 237 of 252 -- 94% complete\r"
     ]
    },
    {
     "name": "stderr",
     "output_type": "stream",
     "text": [
      "C:\\Users\\Kartik\\AppData\\Local\\Programs\\Python\\Python310\\lib\\site-packages\\statsmodels\\base\\model.py:604: ConvergenceWarning: Maximum Likelihood optimization failed to converge. Check mle_retvals\n",
      "  warnings.warn(\"Maximum Likelihood optimization failed to \"\n"
     ]
    },
    {
     "name": "stdout",
     "output_type": "stream",
     "text": [
      "working on 239 of 252 -- 94% complete\r"
     ]
    },
    {
     "name": "stderr",
     "output_type": "stream",
     "text": [
      "C:\\Users\\Kartik\\AppData\\Local\\Programs\\Python\\Python310\\lib\\site-packages\\statsmodels\\base\\model.py:604: ConvergenceWarning: Maximum Likelihood optimization failed to converge. Check mle_retvals\n",
      "  warnings.warn(\"Maximum Likelihood optimization failed to \"\n"
     ]
    },
    {
     "name": "stdout",
     "output_type": "stream",
     "text": [
      "working on 240 of 252 -- 95% complete\r"
     ]
    },
    {
     "name": "stderr",
     "output_type": "stream",
     "text": [
      "C:\\Users\\Kartik\\AppData\\Local\\Programs\\Python\\Python310\\lib\\site-packages\\statsmodels\\base\\model.py:604: ConvergenceWarning: Maximum Likelihood optimization failed to converge. Check mle_retvals\n",
      "  warnings.warn(\"Maximum Likelihood optimization failed to \"\n"
     ]
    },
    {
     "name": "stdout",
     "output_type": "stream",
     "text": [
      "working on 241 of 252 -- 95% complete\r"
     ]
    },
    {
     "name": "stderr",
     "output_type": "stream",
     "text": [
      "C:\\Users\\Kartik\\AppData\\Local\\Programs\\Python\\Python310\\lib\\site-packages\\statsmodels\\base\\model.py:604: ConvergenceWarning: Maximum Likelihood optimization failed to converge. Check mle_retvals\n",
      "  warnings.warn(\"Maximum Likelihood optimization failed to \"\n"
     ]
    },
    {
     "name": "stdout",
     "output_type": "stream",
     "text": [
      "working on 242 of 252 -- 96% complete\r"
     ]
    },
    {
     "name": "stderr",
     "output_type": "stream",
     "text": [
      "C:\\Users\\Kartik\\AppData\\Local\\Programs\\Python\\Python310\\lib\\site-packages\\statsmodels\\base\\model.py:604: ConvergenceWarning: Maximum Likelihood optimization failed to converge. Check mle_retvals\n",
      "  warnings.warn(\"Maximum Likelihood optimization failed to \"\n"
     ]
    },
    {
     "name": "stdout",
     "output_type": "stream",
     "text": [
      "working on 245 of 252 -- 97% complete\r"
     ]
    },
    {
     "name": "stderr",
     "output_type": "stream",
     "text": [
      "C:\\Users\\Kartik\\AppData\\Local\\Programs\\Python\\Python310\\lib\\site-packages\\statsmodels\\base\\model.py:604: ConvergenceWarning: Maximum Likelihood optimization failed to converge. Check mle_retvals\n",
      "  warnings.warn(\"Maximum Likelihood optimization failed to \"\n"
     ]
    },
    {
     "name": "stdout",
     "output_type": "stream",
     "text": [
      "working on 250 of 252 -- 99% complete\r"
     ]
    },
    {
     "name": "stderr",
     "output_type": "stream",
     "text": [
      "C:\\Users\\Kartik\\AppData\\Local\\Programs\\Python\\Python310\\lib\\site-packages\\statsmodels\\base\\model.py:604: ConvergenceWarning: Maximum Likelihood optimization failed to converge. Check mle_retvals\n",
      "  warnings.warn(\"Maximum Likelihood optimization failed to \"\n"
     ]
    },
    {
     "name": "stdout",
     "output_type": "stream",
     "text": [
      "working on 251 of 252 -- 99% complete\r"
     ]
    },
    {
     "name": "stderr",
     "output_type": "stream",
     "text": [
      "C:\\Users\\Kartik\\AppData\\Local\\Programs\\Python\\Python310\\lib\\site-packages\\statsmodels\\base\\model.py:604: ConvergenceWarning: Maximum Likelihood optimization failed to converge. Check mle_retvals\n",
      "  warnings.warn(\"Maximum Likelihood optimization failed to \"\n"
     ]
    },
    {
     "name": "stdout",
     "output_type": "stream",
     "text": [
      "796/796 - 5s - loss: 0.0129 - val_loss: 0.0081 - 5s/epoch - 7ms/step\n",
      "796/796 - 3s - loss: 0.0028 - val_loss: 0.0047 - 3s/epoch - 3ms/step\n",
      "796/796 - 2s - loss: 0.0024 - val_loss: 0.0048 - 2s/epoch - 3ms/step\n",
      "796/796 - 2s - loss: 0.0022 - val_loss: 0.0056 - 2s/epoch - 3ms/step\n",
      "796/796 - 2s - loss: 0.0022 - val_loss: 0.0058 - 2s/epoch - 3ms/step\n",
      "796/796 - 2s - loss: 0.0021 - val_loss: 0.0061 - 2s/epoch - 3ms/step\n",
      "796/796 - 2s - loss: 0.0021 - val_loss: 0.0070 - 2s/epoch - 3ms/step\n",
      "796/796 - 2s - loss: 0.0020 - val_loss: 0.0070 - 2s/epoch - 3ms/step\n",
      "796/796 - 2s - loss: 0.0020 - val_loss: 0.0059 - 2s/epoch - 3ms/step\n",
      "796/796 - 2s - loss: 0.0019 - val_loss: 0.0066 - 2s/epoch - 3ms/step\n",
      "796/796 - 2s - loss: 0.0019 - val_loss: 0.0063 - 2s/epoch - 3ms/step\n",
      "796/796 - 2s - loss: 0.0019 - val_loss: 0.0058 - 2s/epoch - 3ms/step\n",
      "796/796 - 2s - loss: 0.0018 - val_loss: 0.0053 - 2s/epoch - 3ms/step\n",
      "796/796 - 2s - loss: 0.0018 - val_loss: 0.0055 - 2s/epoch - 3ms/step\n",
      "796/796 - 2s - loss: 0.0017 - val_loss: 0.0059 - 2s/epoch - 3ms/step\n",
      "796/796 - 2s - loss: 0.0017 - val_loss: 0.0051 - 2s/epoch - 3ms/step\n",
      "796/796 - 2s - loss: 0.0016 - val_loss: 0.0053 - 2s/epoch - 3ms/step\n",
      "796/796 - 2s - loss: 0.0016 - val_loss: 0.0048 - 2s/epoch - 3ms/step\n",
      "796/796 - 2s - loss: 0.0015 - val_loss: 0.0046 - 2s/epoch - 3ms/step\n",
      "796/796 - 2s - loss: 0.0014 - val_loss: 0.0041 - 2s/epoch - 3ms/step\n",
      "796/796 - 2s - loss: 0.0014 - val_loss: 0.0043 - 2s/epoch - 3ms/step\n",
      "796/796 - 2s - loss: 0.0013 - val_loss: 0.0041 - 2s/epoch - 3ms/step\n",
      "796/796 - 2s - loss: 0.0012 - val_loss: 0.0043 - 2s/epoch - 3ms/step\n",
      "796/796 - 2s - loss: 0.0012 - val_loss: 0.0037 - 2s/epoch - 3ms/step\n",
      "796/796 - 3s - loss: 0.0011 - val_loss: 0.0039 - 3s/epoch - 3ms/step\n",
      "796/796 - 2s - loss: 0.0011 - val_loss: 0.0036 - 2s/epoch - 3ms/step\n",
      "796/796 - 3s - loss: 0.0010 - val_loss: 0.0033 - 3s/epoch - 3ms/step\n",
      "796/796 - 2s - loss: 9.6500e-04 - val_loss: 0.0031 - 2s/epoch - 3ms/step\n",
      "796/796 - 2s - loss: 9.8447e-04 - val_loss: 0.0033 - 2s/epoch - 3ms/step\n",
      "796/796 - 2s - loss: 9.4521e-04 - val_loss: 0.0034 - 2s/epoch - 3ms/step\n",
      "796/796 - 2s - loss: 9.3558e-04 - val_loss: 0.0032 - 2s/epoch - 3ms/step\n",
      "796/796 - 2s - loss: 9.1905e-04 - val_loss: 0.0028 - 2s/epoch - 3ms/step\n",
      "796/796 - 2s - loss: 8.9107e-04 - val_loss: 0.0026 - 2s/epoch - 3ms/step\n",
      "796/796 - 2s - loss: 8.9139e-04 - val_loss: 0.0030 - 2s/epoch - 3ms/step\n",
      "796/796 - 2s - loss: 8.9667e-04 - val_loss: 0.0031 - 2s/epoch - 3ms/step\n",
      "796/796 - 2s - loss: 8.9404e-04 - val_loss: 0.0027 - 2s/epoch - 3ms/step\n",
      "796/796 - 2s - loss: 8.5918e-04 - val_loss: 0.0027 - 2s/epoch - 3ms/step\n",
      "796/796 - 2s - loss: 9.1056e-04 - val_loss: 0.0027 - 2s/epoch - 3ms/step\n",
      "796/796 - 2s - loss: 8.7503e-04 - val_loss: 0.0030 - 2s/epoch - 3ms/step\n",
      "796/796 - 2s - loss: 8.5781e-04 - val_loss: 0.0030 - 2s/epoch - 3ms/step\n",
      "796/796 - 3s - loss: 8.9031e-04 - val_loss: 0.0024 - 3s/epoch - 3ms/step\n",
      "796/796 - 2s - loss: 8.9481e-04 - val_loss: 0.0028 - 2s/epoch - 3ms/step\n",
      "796/796 - 2s - loss: 8.6728e-04 - val_loss: 0.0026 - 2s/epoch - 3ms/step\n",
      "796/796 - 2s - loss: 8.7005e-04 - val_loss: 0.0037 - 2s/epoch - 3ms/step\n",
      "796/796 - 2s - loss: 8.6546e-04 - val_loss: 0.0031 - 2s/epoch - 3ms/step\n",
      "Epoch 45: early stopping\n",
      "Model: \"sequential_1\"\n",
      "_________________________________________________________________\n",
      " Layer (type)                Output Shape              Param #   \n",
      "=================================================================\n",
      " lstm_2 (LSTM)               (None, 4, 4)              96        \n",
      "                                                                 \n",
      " lstm_3 (LSTM)               (None, 2)                 56        \n",
      "                                                                 \n",
      " dense_1 (Dense)             (None, 1)                 3         \n",
      "                                                                 \n",
      "=================================================================\n",
      "Total params: 155\n",
      "Trainable params: 155\n",
      "Non-trainable params: 0\n",
      "_________________________________________________________________\n",
      "None\n",
      "8/8 [==============================] - 1s 2ms/step\n",
      "\n",
      "Evaluation of Model:0\n",
      "MSE:\t 250.28857601335042 \n",
      "RMSE:\t 15.820511243741475 \n",
      "MAPE:\t 2.5218660375907826\n"
     ]
    }
   ],
   "source": [
    "optimized_period = getOptimizedPeriods(data3, talib_moving_averages, lower_end = 0, upper_end = 1000)\n",
    "print('\\nOptimized periods:', optimized_period)\n",
    "\n",
    "without_sentiment_result, actual = simulate(data3, optimized_period)"
   ]
  },
  {
   "cell_type": "code",
   "execution_count": 8,
   "id": "9787c7e1",
   "metadata": {},
   "outputs": [
    {
     "data": {
      "image/png": "[encoded data removed]",
      "text/plain": [
       "<Figure size 2000x1200 with 1 Axes>"
      ]
     },
     "metadata": {},
     "output_type": "display_data"
    }
   ],
   "source": [
    "import matplotlib.pyplot as plt\n",
    "plt.rcParams['figure.figsize'] = [20, 12]\n",
    "plt.plot(sentiment_result,'red',pd.Series(actual.astype(float)),'black',without_sentiment_result,'blue')\n",
    "plt.show()"
   ]
  },
  {
   "cell_type": "code",
   "execution_count": null,
   "id": "f7e27430",
   "metadata": {},
   "outputs": [],
   "source": []
  }
 ],
 "metadata": {
  "kernelspec": {
   "display_name": "Python 3 (ipykernel)",
   "language": "python",
   "name": "python3"
  },
  "language_info": {
   "codemirror_mode": {
    "name": "ipython",
    "version": 3
   },
   "file_extension": ".py",
   "mimetype": "text/x-python",
   "name": "python",
   "nbconvert_exporter": "python",
   "pygments_lexer": "ipython3",
   "version": "3.10.7"
  }
 },
 "nbformat": 4,
 "nbformat_minor": 5
}
